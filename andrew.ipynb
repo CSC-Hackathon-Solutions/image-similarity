{
 "cells": [
  {
   "cell_type": "code",
<<<<<<< Updated upstream
   "execution_count": null,
=======
   "execution_count": 1,
>>>>>>> Stashed changes
   "metadata": {},
   "outputs": [],
   "source": [
    "import pandas as pd\n",
    "import torch\n",
    "import torchvision.transforms as T\n",
    "from torch.utils.data import DataLoader, Dataset\n",
<<<<<<< Updated upstream
=======
    "import numpy as np\n",
>>>>>>> Stashed changes
    "\n",
    "from PIL import Image"
   ]
  },
  {
   "cell_type": "code",
<<<<<<< Updated upstream
   "execution_count": null,
   "metadata": {},
   "outputs": [],
   "source": [
    "full_data = pd.read_csv('data/full.csv')\n",
    "train_num = int(full_data.shape[0] * 0.9)\n",
    "train_data = full_data[:train_num]\n",
    "valid_data = full_data[train_num:]\n",
    "train_data.to_csv('data/train.csv')\n",
    "valid_data.to_csv('data/valid.csv')"
=======
   "execution_count": 2,
   "metadata": {},
   "outputs": [],
   "source": [
    "def split_dataframe(df, ratio):\n",
    "    assert(sum(ratio) == 1)\n",
    "    return np.split(df, (np.cumsum(ratio[:-1]) * df.shape[0]).astype(int))"
>>>>>>> Stashed changes
   ]
  },
  {
   "cell_type": "code",
<<<<<<< Updated upstream
   "execution_count": null,
   "metadata": {},
   "outputs": [],
   "source": [
=======
   "execution_count": 3,
   "metadata": {},
   "outputs": [],
   "source": [
    "full_data = pd.read_csv('data/full.csv')\n",
    "train_data, train_threshold_data, valid_data = split_dataframe(full_data, (0.87, 0.03, 0.1))"
   ]
  },
  {
   "cell_type": "code",
   "execution_count": 4,
   "metadata": {},
   "outputs": [
    {
     "name": "stderr",
     "output_type": "stream",
     "text": [
      "/Users/andrey/projects/image-similarity/ml-experiments/venv/lib/python3.10/site-packages/tqdm/auto.py:21: TqdmWarning: IProgress not found. Please update jupyter and ipywidgets. See https://ipywidgets.readthedocs.io/en/stable/user_install.html\n",
      "  from .autonotebook import tqdm as notebook_tqdm\n"
     ]
    }
   ],
   "source": [
>>>>>>> Stashed changes
    "from DataHandlers import ImageDataset, InMemDataLoader\n",
    "\n",
    "transform = T.Compose([\n",
    "    T.CenterCrop((200, 200)),\n",
    "    T.ToTensor(),\n",
    "    T.Normalize((0.5, 0.5, 0.5), (0.5, 0.5, 0.5))\n",
    "])\n",
    "\n",
    "batch_size = 10\n",
    "\n",
<<<<<<< Updated upstream
    "train_dataset = ImageDataset(pd.read_csv('data/train.csv'), transform=transform)\n",
=======
    "train_dataset = ImageDataset(train_data, transform=transform, path='data')\n",
>>>>>>> Stashed changes
    "train_dataloader = DataLoader(\n",
    "    train_dataset,\n",
    "    batch_size=batch_size\n",
    ")\n",
    "\n",
<<<<<<< Updated upstream
    "valid_dataset = ImageDataset(pd.read_csv('data/valid.csv'), transform=transform)"
=======
    "valid_dataset = ImageDataset(valid_data, transform=transform, path='data')\n",
    "train_threshold_dataset = ImageDataset(train_threshold_data, transform=transform, path='data')"
>>>>>>> Stashed changes
   ]
  },
  {
   "cell_type": "code",
<<<<<<< Updated upstream
   "execution_count": null,
=======
   "execution_count": 5,
>>>>>>> Stashed changes
   "metadata": {},
   "outputs": [],
   "source": [
    "import torch.nn as nn\n",
    "import torch.nn.functional as F\n",
    "\n",
    "class SiameseNetwork(nn.Module):\n",
    "    def __init__(self):\n",
    "        super(SiameseNetwork, self).__init__()\n",
    "        self.layers = nn.Sequential(\n",
    "            nn.Conv2d(3, 64, 10),\n",
    "            nn.ReLU(),\n",
    "            nn.MaxPool2d(2),\n",
<<<<<<< Updated upstream
    "            nn.Conv2d(64, 128, 7),\n",
    "            nn.ReLU(),    \n",
    "            nn.MaxPool2d(2),\n",
    "            nn.Conv2d(128, 256, 4),\n",
    "            nn.ReLU(), \n",
    "            nn.MaxPool2d(2),\n",
    "            nn.Flatten()\n",
=======
    "            nn.Dropout(0.4),\n",
    "            nn.Conv2d(64, 64, 4),\n",
    "            nn.ReLU(),\n",
    "            nn.MaxPool2d(2),\n",
    "            nn.Flatten(),\n",
    "            nn.Linear(64, 100)\n",
>>>>>>> Stashed changes
    "        )\n",
    "\n",
    "    def forward_one(self, x):\n",
    "        x = self.layers(x)\n",
    "        return x\n",
    "\n",
    "    def forward(self, input0, input1):\n",
    "        output0 = self.forward_one(input0)\n",
    "        output1 = self.forward_one(input1)\n",
    "        return F.pairwise_distance(output0, output1)"
   ]
  },
  {
   "cell_type": "code",
<<<<<<< Updated upstream
   "execution_count": null,
=======
   "execution_count": 6,
>>>>>>> Stashed changes
   "metadata": {},
   "outputs": [],
   "source": [
    "class ContrastiveLoss(nn.Module):\n",
    "    def __init__(self, margin=2.0):\n",
    "        super(ContrastiveLoss, self).__init__()\n",
    "        self.margin = margin\n",
    "\n",
    "    def forward(self, distance, label):\n",
    "        loss_contrastive = torch.mean((1 - label) * torch.pow(distance, 2) +\n",
    "                                      label * torch.pow(torch.clamp(self.margin - distance, min=0), 2))\n",
    "\n",
    "\n",
    "        return loss_contrastive"
   ]
  },
  {
   "cell_type": "code",
<<<<<<< Updated upstream
   "execution_count": null,
=======
   "execution_count": 7,
>>>>>>> Stashed changes
   "metadata": {},
   "outputs": [],
   "source": [
    "device = torch.device('mps')"
   ]
  },
  {
   "cell_type": "code",
<<<<<<< Updated upstream
   "execution_count": null,
   "metadata": {},
   "outputs": [],
   "source": [
    "from tqdm import tqdm\n",
    "\n",
    "model = SiameseNetwork().to(device)\n",
    "criterion = ContrastiveLoss().to(device)\n",
    "optimizer = torch.optim.Adam(model.parameters(), lr=1e-4)\n",
    "\n",
    "threshold = 0.2\n",
=======
   "execution_count": 8,
   "metadata": {},
   "outputs": [
    {
     "name": "stderr",
     "output_type": "stream",
     "text": [
      "  0%|          | 0/414 [00:00<?, ?it/s]"
     ]
    },
    {
     "ename": "",
     "evalue": "",
     "output_type": "error",
     "traceback": [
      "\u001b[1;31mCannot execute code, session has been disposed. Please try restarting the Kernel."
     ]
    },
    {
     "ename": "",
     "evalue": "",
     "output_type": "error",
     "traceback": [
      "\u001b[1;31mThe Kernel crashed while executing code in the the current cell or a previous cell. Please review the code in the cell(s) to identify a possible cause of the failure. Click <a href='https://aka.ms/vscodeJupyterKernelCrash'>here</a> for more info. View Jupyter <a href='command:jupyter.viewOutput'>log</a> for further details."
     ]
    }
   ],
   "source": [
    "\n",
    "from tqdm import tqdm\n",
    "from torchmetrics.classification import BinaryF1Score\n",
    "from sklearn.linear_model import LogisticRegression\n",
    "\n",
    "def get_theshold(model, train_theshold_dataset, batch_size):\n",
    "    model.eval()\n",
    "    with torch.no_grad():\n",
    "        dataloader = DataLoader(\n",
    "            train_theshold_dataset,\n",
    "            batch_size=batch_size\n",
    "        )\n",
    "        distances = []\n",
    "        labels = []\n",
    "        for img0, img1, label in tqdm(dataloader):\n",
    "            distance = model(img0.to(device), img1.to(device))\n",
    "            distances.append(distance.cpu())\n",
    "            labels.append(label)\n",
    "\n",
    "        distances = torch.cat(distances)\n",
    "        labels = torch.cat(labels)\n",
    "        log_reg = LogisticRegression(penalty=None)\n",
    "        log_reg.fit(distances.reshape((-1, 1)), labels)\n",
    "        \n",
    "        theshold = (-log_reg.intercept_ / log_reg.coef_).item()\n",
    "        return theshold\n",
>>>>>>> Stashed changes
    "\n",
    "def evaluate(model, dataset, batch_size, threshold):\n",
    "    model.eval()\n",
    "    with torch.no_grad():\n",
    "        dataloader = DataLoader(\n",
    "            dataset,\n",
    "            batch_size=batch_size\n",
    "        )\n",
<<<<<<< Updated upstream
    "        correct = 0\n",
    "        for img0, img1, label in tqdm(dataloader):\n",
    "            img0 = img0.to(device)\n",
    "            img1 = img1.to(device)\n",
    "            label = label.to(device)\n",
    "            distance = model(img0, img1)\n",
    "            correct += ((distance < threshold) == label).count_nonzero()\n",
    "    return correct / len(dataset)\n",
    "\n",
    "for epoch in range(0, 10):\n",
    "    print(epoch)\n",
    "    model.train()\n",
    "    for (img0, img1, label), _ in tqdm(zip(train_dataloader, range(50))):\n",
=======
    "        pos_f1 = BinaryF1Score()\n",
    "        neg_f1 = BinaryF1Score()\n",
    "        for img0, img1, label in tqdm(dataloader):\n",
    "            distance = model(img0.to(device), img1.to(device)).cpu()\n",
    "            pos_f1.update(distance < threshold, label)\n",
    "            neg_f1.update(distance > threshold, 1 - label)\n",
    "    return (pos_f1.compute() + neg_f1.compute()) / 2\n",
    "\n",
    "model = SiameseNetwork().to(device)\n",
    "criterion = ContrastiveLoss().to(device)\n",
    "optimizer = torch.optim.Adam(model.parameters(), lr=1e-4)\n",
    "\n",
    "for epoch in range(20):\n",
    "    model.train()\n",
    "    for img0, img1, label in tqdm(train_dataloader):\n",
>>>>>>> Stashed changes
    "        img0 = img0.to(device)\n",
    "        img1 = img1.to(device)\n",
    "        label = label.to(device)\n",
    "        optimizer.zero_grad()\n",
    "        outputs = model(img0, img1)\n",
    "        loss = criterion(outputs, label)\n",
    "        loss.backward()\n",
    "        optimizer.step()\n",
    "\n",
<<<<<<< Updated upstream
    "    print(f'Epoch {epoch} | Loss:{loss.item()} | Eval accuracy: {evaluate(model, valid_dataset, batch_size, threshold)}')"
=======
    "    theshold = get_theshold(model, train_threshold_dataset, batch_size)\n",
    "    print(f'Epoch {epoch} | Loss:{loss.item()} | Eval accuracy: {evaluate(model, valid_dataset, batch_size, theshold)}')"
>>>>>>> Stashed changes
   ]
  },
  {
   "cell_type": "code",
   "execution_count": null,
   "metadata": {},
   "outputs": [],
   "source": []
  }
 ],
 "metadata": {
  "kernelspec": {
   "display_name": "venv",
   "language": "python",
   "name": "python3"
  },
  "language_info": {
   "codemirror_mode": {
    "name": "ipython",
    "version": 3
   },
   "file_extension": ".py",
   "mimetype": "text/x-python",
   "name": "python",
   "nbconvert_exporter": "python",
   "pygments_lexer": "ipython3",
   "version": "3.10.9"
  },
  "orig_nbformat": 4
 },
 "nbformat": 4,
 "nbformat_minor": 2
}
