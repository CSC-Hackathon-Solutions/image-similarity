{
 "cells": [
  {
   "cell_type": "code",
   "execution_count": null,
   "metadata": {},
   "outputs": [],
   "source": [
    "import pandas as pd\n",
    "import torch\n",
    "import torchvision.transforms as T\n",
    "from torch.utils.data import DataLoader\n",
    "import numpy as np"
   ]
  },
  {
   "cell_type": "code",
   "execution_count": null,
   "metadata": {},
   "outputs": [],
   "source": [
    "def split_dataframe(df, ratio):\n",
    "    assert(sum(ratio) == 1)\n",
    "    return np.split(df, (np.cumsum(ratio[:-1]) * df.shape[0]).astype(int))"
   ]
  },
  {
   "cell_type": "code",
   "execution_count": null,
   "metadata": {},
   "outputs": [],
   "source": [
    "full_data = pd.read_csv('data/full.csv')\n",
    "train_data, train_threshold_data, valid_data = split_dataframe(full_data, (0.87, 0.03, 0.1))"
   ]
  },
  {
   "cell_type": "code",
   "execution_count": null,
   "metadata": {},
   "outputs": [],
   "source": [
    "from DataHandlers import ImageDataset, InMemDataLoader\n",
    "\n",
    "transform = T.Compose([\n",
    "    T.CenterCrop((200, 200)),\n",
    "    T.ToTensor(),\n",
    "    T.Normalize((0.5, 0.5, 0.5), (0.5, 0.5, 0.5))\n",
    "])\n",
    "\n",
    "batch_size = 10\n",
    "\n",
    "train_dataset = ImageDataset(train_data, transform=transform, path='data')\n",
    "train_dataloader = DataLoader(\n",
    "    train_dataset,\n",
    "    batch_size=batch_size\n",
    ")\n",
    "\n",
    "valid_dataset = ImageDataset(valid_data, transform=transform, path='data')\n",
    "train_threshold_dataset = ImageDataset(train_threshold_data, transform=transform, path='data')"
   ]
  },
  {
   "cell_type": "code",
   "execution_count": null,
   "metadata": {},
   "outputs": [],
   "source": [
    "import torch.nn as nn\n",
    "import torch.nn.functional as F\n",
    "\n",
    "class SiameseNetwork(nn.Module):\n",
    "    def __init__(self):\n",
    "        super(SiameseNetwork, self).__init__()\n",
    "        self.layers = nn.Sequential(\n",
    "            nn.Conv2d(3, 16, 10),\n",
    "            nn.ReLU(),\n",
    "            nn.MaxPool2d(2),\n",
    "            nn.Conv2d(16, 32, 4),\n",
    "            nn.ReLU(),\n",
    "            nn.MaxPool2d(2),\n",
    "            nn.Flatten(),\n",
    "            nn.Linear(67712, 50)\n",
    "        )\n",
    "\n",
    "    def forward_one(self, x):\n",
    "        x = self.layers(x)\n",
    "        return x\n",
    "\n",
    "    def forward(self, input0, input1):\n",
    "        output0 = self.forward_one(input0)\n",
    "        output1 = self.forward_one(input1)\n",
    "        return F.pairwise_distance(output0, output1)"
   ]
  },
  {
   "cell_type": "code",
   "execution_count": null,
   "metadata": {},
   "outputs": [],
   "source": [
    "class ContrastiveLoss(nn.Module):\n",
    "    def __init__(self, margin=2.0):\n",
    "        super(ContrastiveLoss, self).__init__()\n",
    "        self.margin = margin\n",
    "\n",
    "    def forward(self, distance, label):\n",
    "        loss_contrastive = torch.mean((1 - label) * torch.pow(distance, 2) +\n",
    "                                      label * torch.pow(torch.clamp(self.margin - distance, min=0), 2))\n",
    "\n",
    "\n",
    "        return loss_contrastive"
   ]
  },
  {
   "cell_type": "code",
   "execution_count": null,
   "metadata": {},
   "outputs": [],
   "source": [
    "device = torch.device('mps')"
   ]
  },
  {
   "cell_type": "code",
   "execution_count": null,
   "metadata": {},
   "outputs": [],
   "source": [
    "\n",
    "from tqdm import tqdm\n",
    "from torchmetrics.classification import BinaryF1Score\n",
    "from sklearn.linear_model import LogisticRegression\n",
    "\n",
    "def get_theshold(model, train_theshold_dataset, batch_size):\n",
    "    model.eval()\n",
    "    with torch.no_grad():\n",
    "        dataloader = DataLoader(\n",
    "            train_theshold_dataset,\n",
    "            batch_size=batch_size\n",
    "        )\n",
    "        distances = []\n",
    "        labels = []\n",
    "        for img0, img1, label in tqdm(dataloader):\n",
    "            distance = model(img0.to(device), img1.to(device))\n",
    "            distances.append(distance.cpu())\n",
    "            labels.append(label)\n",
    "\n",
    "        distances = torch.cat(distances)\n",
    "        labels = torch.cat(labels)\n",
    "        log_reg = LogisticRegression(penalty=None)\n",
    "        log_reg.fit(distances.reshape((-1, 1)), labels)\n",
    "        \n",
    "        theshold = (-log_reg.intercept_ / log_reg.coef_).item()\n",
    "        return theshold\n",
    "\n",
    "def evaluate(model, dataset, threshold, batch_size, max_batches = 50):\n",
    "    model.eval()\n",
    "    with torch.no_grad():\n",
    "        dataloader = DataLoader(\n",
    "            dataset,\n",
    "            batch_size=batch_size\n",
    "        )\n",
    "        pos_f1 = BinaryF1Score()\n",
    "        neg_f1 = BinaryF1Score()\n",
    "        for (img0, img1, label), _ in zip(tqdm(dataloader), range(max_batches)):\n",
    "            distance = model(img0.to(device), img1.to(device)).cpu()\n",
    "            pos_f1.update(distance < threshold, label)\n",
    "            neg_f1.update(distance > threshold, 1 - label)\n",
    "    return (pos_f1.compute() + neg_f1.compute()) / 2\n",
    "\n",
    "model = SiameseNetwork().to(device)\n",
    "criterion = ContrastiveLoss().to(device)\n",
    "optimizer = torch.optim.Adam(model.parameters(), lr=1e-4)\n",
    "\n",
    "torch.set_printoptions(precision=3)\n",
    "\n",
    "for epoch in range(20):\n",
    "    model.train()\n",
    "    for img0, img1, label in tqdm(train_dataloader):\n",
    "        img0 = img0.to(device)\n",
    "        img1 = img1.to(device)\n",
    "        label = label.to(device)\n",
    "        optimizer.zero_grad()\n",
    "        outputs = model(img0, img1)\n",
    "        loss = criterion(outputs, label)\n",
    "        loss.backward()\n",
    "        optimizer.step()\n",
    "\n",
    "    theshold = get_theshold(model, train_threshold_dataset, batch_size)\n",
    "    print(f'Epoch {epoch} | Loss:{loss.item()} | Eval accuracy: {evaluate(model, valid_dataset, theshold, batch_size)} | Train accuracy: {evaluate(model, train_dataset, theshold, batch_size)}')"
   ]
  },
  {
   "cell_type": "code",
   "execution_count": null,
   "metadata": {},
   "outputs": [],
   "source": []
  }
 ],
 "metadata": {
  "kernelspec": {
   "display_name": "venv",
   "language": "python",
   "name": "python3"
  },
  "language_info": {
   "codemirror_mode": {
    "name": "ipython",
    "version": 3
   },
   "file_extension": ".py",
   "mimetype": "text/x-python",
   "name": "python",
   "nbconvert_exporter": "python",
   "pygments_lexer": "ipython3",
   "version": "3.10.9"
  },
  "orig_nbformat": 4
 },
 "nbformat": 4,
 "nbformat_minor": 2
}
