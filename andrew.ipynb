{
 "cells": [
  {
   "cell_type": "code",
   "execution_count": null,
   "metadata": {},
   "outputs": [],
   "source": [
    "import pandas as pd\n",
    "import torch\n",
    "import torchvision.transforms as T\n",
    "from torch.utils.data import DataLoader, Dataset\n",
    "\n",
    "from PIL import Image"
   ]
  },
  {
   "cell_type": "code",
   "execution_count": null,
   "metadata": {},
   "outputs": [],
   "source": [
    "full_data = pd.read_csv('data/full.csv')\n",
    "train_num = int(full_data.shape[0] * 0.9)\n",
    "train_data = full_data[:train_num]\n",
    "valid_data = full_data[train_num:]\n",
    "train_data.to_csv('data/train.csv')\n",
    "valid_data.to_csv('data/valid.csv')"
   ]
  },
  {
   "cell_type": "code",
   "execution_count": null,
   "metadata": {},
   "outputs": [],
   "source": [
    "from DataHandlers import ImageDataset, InMemDataLoader\n",
    "\n",
    "transform = T.Compose([\n",
    "    T.CenterCrop((200, 200)),\n",
    "    T.ToTensor(),\n",
    "    T.Normalize((0.5, 0.5, 0.5), (0.5, 0.5, 0.5))\n",
    "])\n",
    "\n",
    "batch_size = 10\n",
    "\n",
    "train_dataset = ImageDataset(pd.read_csv('data/train.csv'), transform=transform)\n",
    "train_dataloader = DataLoader(\n",
    "    train_dataset,\n",
    "    batch_size=batch_size\n",
    ")\n",
    "\n",
    "valid_dataset = ImageDataset(pd.read_csv('data/valid.csv'), transform=transform)"
   ]
  },
  {
   "cell_type": "code",
   "execution_count": null,
   "metadata": {},
   "outputs": [],
   "source": [
    "import torch.nn as nn\n",
    "import torch.nn.functional as F\n",
    "\n",
    "class SiameseNetwork(nn.Module):\n",
    "    def __init__(self):\n",
    "        super(SiameseNetwork, self).__init__()\n",
    "        self.layers = nn.Sequential(\n",
    "            nn.Conv2d(3, 64, 10),\n",
    "            nn.ReLU(),\n",
    "            nn.MaxPool2d(2),\n",
    "            nn.Conv2d(64, 128, 7),\n",
    "            nn.ReLU(),    \n",
    "            nn.MaxPool2d(2),\n",
    "            nn.Conv2d(128, 256, 4),\n",
    "            nn.ReLU(), \n",
    "            nn.MaxPool2d(2),\n",
    "            nn.Flatten()\n",
    "        )\n",
    "\n",
    "    def forward_one(self, x):\n",
    "        x = self.layers(x)\n",
    "        return x\n",
    "\n",
    "    def forward(self, input0, input1):\n",
    "        output0 = self.forward_one(input0)\n",
    "        output1 = self.forward_one(input1)\n",
    "        return F.pairwise_distance(output0, output1)"
   ]
  },
  {
   "cell_type": "code",
   "execution_count": null,
   "metadata": {},
   "outputs": [],
   "source": [
    "class ContrastiveLoss(nn.Module):\n",
    "    def __init__(self, margin=2.0):\n",
    "        super(ContrastiveLoss, self).__init__()\n",
    "        self.margin = margin\n",
    "\n",
    "    def forward(self, distance, label):\n",
    "        loss_contrastive = torch.mean((1 - label) * torch.pow(distance, 2) +\n",
    "                                      label * torch.pow(torch.clamp(self.margin - distance, min=0), 2))\n",
    "\n",
    "\n",
    "        return loss_contrastive"
   ]
  },
  {
   "cell_type": "code",
   "execution_count": null,
   "metadata": {},
   "outputs": [],
   "source": [
    "device = torch.device('mps')"
   ]
  },
  {
   "cell_type": "code",
   "execution_count": null,
   "metadata": {},
   "outputs": [],
   "source": [
    "from tqdm import tqdm\n",
    "\n",
    "model = SiameseNetwork().to(device)\n",
    "criterion = ContrastiveLoss().to(device)\n",
    "optimizer = torch.optim.Adam(model.parameters(), lr=1e-4)\n",
    "\n",
    "threshold = 0.2\n",
    "\n",
    "def evaluate(model, dataset, batch_size, threshold):\n",
    "    model.eval()\n",
    "    with torch.no_grad():\n",
    "        dataloader = DataLoader(\n",
    "            dataset,\n",
    "            batch_size=batch_size\n",
    "        )\n",
    "        correct = 0\n",
    "        for img0, img1, label in tqdm(dataloader):\n",
    "            img0 = img0.to(device)\n",
    "            img1 = img1.to(device)\n",
    "            label = label.to(device)\n",
    "            distance = model(img0, img1)\n",
    "            correct += ((distance < threshold) == label).count_nonzero()\n",
    "    return correct / len(dataset)\n",
    "\n",
    "for epoch in range(0, 10):\n",
    "    print(epoch)\n",
    "    model.train()\n",
    "    for (img0, img1, label), _ in tqdm(zip(train_dataloader, range(50))):\n",
    "        img0 = img0.to(device)\n",
    "        img1 = img1.to(device)\n",
    "        label = label.to(device)\n",
    "        optimizer.zero_grad()\n",
    "        outputs = model(img0, img1)\n",
    "        loss = criterion(outputs, label)\n",
    "        loss.backward()\n",
    "        optimizer.step()\n",
    "\n",
    "    print(f'Epoch {epoch} | Loss:{loss.item()} | Eval accuracy: {evaluate(model, valid_dataset, batch_size, threshold)}')"
   ]
  },
  {
   "cell_type": "code",
   "execution_count": null,
   "metadata": {},
   "outputs": [],
   "source": []
  }
 ],
 "metadata": {
  "kernelspec": {
   "display_name": "venv",
   "language": "python",
   "name": "python3"
  },
  "language_info": {
   "codemirror_mode": {
    "name": "ipython",
    "version": 3
   },
   "file_extension": ".py",
   "mimetype": "text/x-python",
   "name": "python",
   "nbconvert_exporter": "python",
   "pygments_lexer": "ipython3",
   "version": "3.10.9"
  },
  "orig_nbformat": 4
 },
 "nbformat": 4,
 "nbformat_minor": 2
}
