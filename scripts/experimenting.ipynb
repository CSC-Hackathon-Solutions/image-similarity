{
 "cells": [
  {
   "cell_type": "code",
   "execution_count": null,
   "id": "d226492d-42e9-4c1f-8d1b-7cab79666320",
   "metadata": {},
   "outputs": [],
   "source": [
    "\"\"\"\n",
    "    Parse raw urls submit.csv file \n",
    "\"\"\"\n",
    "\n",
    "import pandas as pd\n",
    "\n",
    "\n",
    "df = pd.read_csv('/Users/denys/Downloads/csc-hackathon-2023-lunua-task/submit.csv')\n",
    "df = df.rename(columns={\"image_url1\": \"Name1\", \"image_url2\": \"Name2\"})\n",
    "df = df[[\"Name1\", \"Name2\", \"ID\"]]\n",
    "\n",
    "df['Name1'] = df['Name1'].str.replace('https://storage.googleapis.com/lun-ua/images/', '')\n",
    "df['Name2'] = df['Name2'].str.replace('https://storage.googleapis.com/lun-ua/images/', '')\n",
    "\n",
    "df.to_csv('submit-new.csv', index=False)"
   ]
  },
  {
   "cell_type": "code",
   "execution_count": 1,
   "id": "dd8d50f7-22c5-440d-8ad3-42fed6e41423",
   "metadata": {},
   "outputs": [],
   "source": [
    "\"\"\"\n",
    "    Parse raw urls train.csv file \n",
    "\"\"\"\n",
    "\n",
    "import pandas as pd\n",
    "\n",
    "df = pd.read_csv('/Users/denys/Downloads/csc-hackathon-2023-lunua-task/train.csv')\n",
    "df = df.rename(columns=\n",
    "               {\"image_url1\": \"Name1\",\n",
    "                \"image_url2\": \"Name2\",\n",
    "                \"is_same\": \"Equal\"\n",
    "               })\n",
    "\n",
    "df['Name1'] = df['Name1'].str.replace('https://storage.googleapis.com/lun-ua/images/', '')\n",
    "df['Name2'] = df['Name2'].str.replace('https://storage.googleapis.com/lun-ua/images/', '')\n",
    "\n",
    "df.to_csv('train-new.csv', index=False)"
   ]
  },
  {
   "cell_type": "code",
   "execution_count": null,
   "id": "c907b0e4-8f4c-4090-9f91-5b7b1a36d430",
   "metadata": {},
   "outputs": [],
   "source": []
  }
 ],
 "metadata": {
  "kernelspec": {
   "display_name": "Python 3 (ipykernel)",
   "language": "python",
   "name": "python3"
  },
  "language_info": {
   "codemirror_mode": {
    "name": "ipython",
    "version": 3
   },
   "file_extension": ".py",
   "mimetype": "text/x-python",
   "name": "python",
   "nbconvert_exporter": "python",
   "pygments_lexer": "ipython3",
   "version": "3.11.4"
  }
 },
 "nbformat": 4,
 "nbformat_minor": 5
}
