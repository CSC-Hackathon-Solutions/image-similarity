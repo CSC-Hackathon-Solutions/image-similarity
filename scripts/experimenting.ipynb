{
 "cells": [
  {
   "cell_type": "code",
   "execution_count": null,
   "id": "d226492d-42e9-4c1f-8d1b-7cab79666320",
   "metadata": {},
   "outputs": [],
   "source": [
    "import pandas as pd\n",
    "\n",
    "# Load the csv\n",
    "df = pd.read_csv('/Users/denys/Downloads/csc-hackathon-2023-lunua-task/submit.csv')\n",
    "\n",
    "# Rename the columns\n",
    "df = df.rename(columns={\"image_url1\": \"Name1\", \"image_url2\": \"Name2\"})\n",
    "\n",
    "# Rearrange the columns\n",
    "df = df[[\"Name1\", \"Name2\", \"ID\"]]\n",
    "\n",
    "# Remove the url part from Name1 and Name2\n",
    "df['Name1'] = df['Name1'].str.replace('https://storage.googleapis.com/lun-ua/images/', '')\n",
    "df['Name2'] = df['Name2'].str.replace('https://storage.googleapis.com/lun-ua/images/', '')\n",
    "\n",
    "# Save to new csv file\n",
    "df.to_csv('submit-new.csv', index=False)"
   ]
  }
 ],
 "metadata": {
  "kernelspec": {
   "display_name": "Python 3 (ipykernel)",
   "language": "python",
   "name": "python3"
  },
  "language_info": {
   "codemirror_mode": {
    "name": "ipython",
    "version": 3
   },
   "file_extension": ".py",
   "mimetype": "text/x-python",
   "name": "python",
   "nbconvert_exporter": "python",
   "pygments_lexer": "ipython3",
   "version": "3.11.4"
  }
 },
 "nbformat": 4,
 "nbformat_minor": 5
}
