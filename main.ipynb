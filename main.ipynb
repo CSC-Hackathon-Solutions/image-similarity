{
 "cells": [
  {
   "cell_type": "code",
   "execution_count": null,
   "id": "ba8bcaa6-3626-44f2-8418-820e8545908d",
   "metadata": {
    "tags": []
   },
   "outputs": [],
   "source": [
    "import requests\n",
    "from io import BytesIO\n",
    "from PIL import Image\n",
    "import os\n",
    "\n",
    "from tqdm.auto import tqdm\n",
    "\n",
    "import pandas as pd\n",
    "import numpy as np\n",
    "\n",
    "import torch\n",
    "import torchvision.transforms as T\n",
    "from torch.utils.data import DataLoader, Dataset\n",
    "\n",
    "from ImageDataset import ImageDataset"
   ]
  },
  {
   "cell_type": "code",
   "execution_count": null,
   "id": "0742ffbf-b1ac-4409-a174-92b52ebb8a8a",
   "metadata": {
    "tags": []
   },
   "outputs": [],
   "source": [
    "metadata = pd.read_csv('data/train.csv')\n",
    "transform = T.Compose([\n",
    "    T.CenterCrop((400, 400)),\n",
    "    T.ToTensor(),\n",
    "    T.Normalize((0.5, 0.5, 0.5), (0.5, 0.5, 0.5))\n",
    "])\n",
    "dataset = ImageDataset(metadata, transform=transform)\n",
    "loader = DataLoader(\n",
    "    dataset,\n",
    "    batch_size=1\n",
    ")\n"
   ]
  },
  {
   "cell_type": "code",
   "execution_count": null,
   "id": "cf134645-ed89-4bc2-a919-d8fed88c8b0a",
   "metadata": {},
   "outputs": [],
   "source": [
    "for batch in tqdm(loader):\n",
    "    pass"
   ]
  },
  {
   "cell_type": "code",
   "execution_count": null,
   "id": "61cc78be-5585-4bbb-89e9-d3baf2f449b4",
   "metadata": {},
   "outputs": [],
   "source": []
  }
 ],
 "metadata": {
  "kernelspec": {
   "display_name": "Python 3 (ipykernel)",
   "language": "python",
   "name": "python3"
  },
  "language_info": {
   "codemirror_mode": {
    "name": "ipython",
    "version": 3
   },
   "file_extension": ".py",
   "mimetype": "text/x-python",
   "name": "python",
   "nbconvert_exporter": "python",
   "pygments_lexer": "ipython3",
   "version": "3.9.16"
  }
 },
 "nbformat": 4,
 "nbformat_minor": 5
}
