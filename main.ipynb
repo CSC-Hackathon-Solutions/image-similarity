{
 "cells": [
  {
   "cell_type": "code",
   "execution_count": 2,
   "id": "ba8bcaa6-3626-44f2-8418-820e8545908d",
   "metadata": {
    "ExecuteTime": {
     "end_time": "2023-07-01T20:00:28.027180Z",
     "start_time": "2023-07-01T20:00:28.023417Z"
    },
    "tags": []
   },
   "outputs": [
    {
     "name": "stderr",
     "output_type": "stream",
     "text": [
      "/opt/homebrew/Caskroom/miniconda/base/envs/ml/lib/python3.9/site-packages/torchvision/io/image.py:13: UserWarning: Failed to load image Python extension: 'dlopen(/opt/homebrew/Caskroom/miniconda/base/envs/ml/lib/python3.9/site-packages/torchvision/image.so, 0x0006): symbol not found in flat namespace '__ZN3c106detail19maybe_wrap_dim_slowIxEET_S2_S2_b''If you don't plan on using image functionality from `torchvision.io`, you can ignore this warning. Otherwise, there might be something wrong with your environment. Did you have `libjpeg` or `libpng` installed before building `torchvision` from source?\n",
      "  warn(\n"
     ]
    }
   ],
   "source": [
    "import requests\n",
    "from io import BytesIO\n",
    "from PIL import Image\n",
    "import os\n",
    "\n",
    "from tqdm.auto import tqdm\n",
    "import matplotlib.pyplot as plt\n",
    "\n",
    "import pandas as pd\n",
    "import numpy as np\n",
    "\n",
    "import torch\n",
    "import torchvision\n",
    "import torchvision.transforms as T\n",
    "from torch.utils.data import DataLoader, Dataset\n",
    "\n",
    "from DataHandlers import ImageDataset, InMemDataLoader"
   ]
  },
  {
   "cell_type": "code",
   "execution_count": 24,
   "id": "2fcde548-9172-47d9-a57f-f7c9e217bfa9",
   "metadata": {
    "tags": []
   },
   "outputs": [],
   "source": [
    "class Wrapper():\n",
    "    def __init__(\n",
    "                self, \n",
    "                model, \n",
    "                paths = {'train': 'data/train.csv', 'valid': 'data/valid.csv', 'test': 'data/test.csv'},\n",
    "                sample_sizes = {'train': 100, 'valid': 100, 'test': 100},\n",
    "                transform = None,\n",
    "                batch_size = 20,\n",
    "                inMemLoaders = False,\n",
    "            ):\n",
    "        \n",
    "        self.model = model\n",
    "        self.paths = paths\n",
    "        self.sample_sizes = sample_sizes\n",
    "        self.batch_size = batch_size\n",
    "        self.n = {}\n",
    "        \n",
    "        def _create_metadata(dataset_type):\n",
    "            data = pd.read_csv(paths[dataset_type])[:sample_sizes[dataset_type]]\n",
    "            self.n[dataset_type] = len(data)\n",
    "            return data\n",
    "\n",
    "        def _create_dataloader(dataset, shuffle):\n",
    "            if inMemLoaders:\n",
    "                return InMemDataLoader(\n",
    "                    dataset,\n",
    "                    \n",
    "                    batch_size=batch_size,\n",
    "                    shuffle=shuffle,\n",
    "                )\n",
    "            else:\n",
    "                return DataLoader(\n",
    "                    dataset,\n",
    "                    batch_size=batch_size,\n",
    "                    shuffle=shuffle,\n",
    "                )\n",
    "        \n",
    "        if transform is None:\n",
    "            transform = T.Compose([\n",
    "                T.Resize(200),\n",
    "                T.CenterCrop(200),\n",
    "                T.ToTensor(),\n",
    "                T.Normalize((0.5, 0.5, 0.5), (0.5, 0.5, 0.5))\n",
    "            ])\n",
    "\n",
    "        dataset_types = ['train', 'valid', 'test']\n",
    "\n",
    "        self.datasets = {\n",
    "            dataset_type: ImageDataset(_create_metadata(dataset_type), transform=transform)\n",
    "            for dataset_type in dataset_types\n",
    "        }\n",
    "\n",
    "        self.loaders = {\n",
    "            dataset_type: _create_dataloader(dataset, shuffle=(dataset_type=='train'))\n",
    "            for dataset_type, dataset in self.datasets.items()\n",
    "        }\n",
    "        \n",
    "        \n",
    "    def train(self):\n",
    "        self.model.train(self.loaders['train'])\n",
    "        \n",
    "    def accuracy(self):\n",
    "        # train_preds = self.model.predict(self.loaders['valid'])\n",
    "        def _count(loader):\n",
    "            preds, truth = [], []\n",
    "            for images1, images2, equal in loader:\n",
    "                preds.append(self.model.predict(images1, images2))\n",
    "                truth.append(equal)\n",
    "\n",
    "            preds = torch.cat(preds)\n",
    "            truth = torch.cat(truth)\n",
    "            return (preds == truth).float().mean()\n",
    "    \n",
    "        print(f'Train accuracy : {_count(self.loaders[\"train\"])}\\n') \n",
    "        print(f'Validation accuracy : {_count(self.loaders[\"valid\"])}\\n') \n",
    "    \n",
    "        \n",
    "    def save_test_preds(self, path='res.csv'):\n",
    "        print(f'Started saving test predictions to {path}')\n",
    "        ids = []\n",
    "        preds = []\n",
    "            \n",
    "        for images1, images2, id_ in tqdm(self.loaders['test']):\n",
    "            preds.extend(self.model.predict(images1, images2))\n",
    "            ids.extend(id_)\n",
    "            \n",
    "        all_ids = pd.DataFrame({\n",
    "            'ID': range(2, self.n['test']),\n",
    "        })\n",
    "        res = pd.DataFrame({\n",
    "            'ID': [obj.item() for obj in ids],\n",
    "            'is_same': [obj.item() for obj in preds]\n",
    "        }).drop_duplicates()\n",
    "\n",
    "        res = all_ids.merge(res, on='ID', how='left').fillna(0)\n",
    "        res.to_csv(path, index=False)\n",
    "        print(f'Saved test predictions to {path}\\n')"
   ]
  },
  {
   "cell_type": "code",
   "execution_count": 25,
   "id": "2a5e92be-422c-437a-b986-afd804ad3230",
   "metadata": {
    "tags": []
   },
   "outputs": [],
   "source": [
    "class ThresholdClassifier():\n",
    "    def __init__(self):\n",
    "        pass\n",
    "    \n",
    "    def train(self, loader):\n",
    "        pass\n",
    "    \n",
    "    def predict(self, images1, images2):\n",
    "        delta = ((images1 - images2) ** 2).mean(dim=(1,2,3))\n",
    "        preds = (delta < 0.02) * 1\n",
    "        return preds"
   ]
  },
  {
   "cell_type": "code",
   "execution_count": 26,
   "id": "4c4f487c-30f4-48eb-ad6d-fe3b26a61174",
   "metadata": {
    "tags": []
   },
   "outputs": [
    {
     "name": "stdout",
     "output_type": "stream",
     "text": [
      "Train accuracy : 0.949999988079071\n",
      "\n",
      "Validation accuracy : 0.949999988079071\n",
      "\n",
      "Started saving test predictions to res.csv\n"
     ]
    },
    {
     "data": {
      "application/vnd.jupyter.widget-view+json": {
       "model_id": "393bc857f9924ae18664f45b9700eade",
       "version_major": 2,
       "version_minor": 0
      },
      "text/plain": [
       "  0%|          | 0/5 [00:00<?, ?it/s]"
      ]
     },
     "metadata": {},
     "output_type": "display_data"
    },
    {
     "name": "stdout",
     "output_type": "stream",
     "text": [
      "Saved test predictions to res.csv\n",
      "\n"
     ]
    }
   ],
   "source": [
    "model = ThresholdClassifier()\n",
    "wrapper = Wrapper(model)\n",
    "wrapper.train()\n",
    "wrapper.accuracy()\n",
    "wrapper.save_test_preds()"
   ]
  },
  {
   "cell_type": "code",
   "execution_count": 12,
   "id": "1f151f05-22a6-49eb-8f65-480b0103ed48",
   "metadata": {},
   "outputs": [],
   "source": [
    "train = pd.read_csv('data/train.csv')\n",
    "train = train.drop_duplicates()\n",
    "train.to_csv('data/train.csv', index=False)"
   ]
  },
  {
   "cell_type": "code",
   "execution_count": null,
   "id": "eb2e4080-065e-4a59-bc44-7034bc17712d",
   "metadata": {},
   "outputs": [],
   "source": []
  }
 ],
 "metadata": {
  "kernelspec": {
   "display_name": "Python 3 (ipykernel)",
   "language": "python",
   "name": "python3"
  },
  "language_info": {
   "codemirror_mode": {
    "name": "ipython",
    "version": 3
   },
   "file_extension": ".py",
   "mimetype": "text/x-python",
   "name": "python",
   "nbconvert_exporter": "python",
   "pygments_lexer": "ipython3",
   "version": "3.9.16"
  }
 },
 "nbformat": 4,
 "nbformat_minor": 5
}
