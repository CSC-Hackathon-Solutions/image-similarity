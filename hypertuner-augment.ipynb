{
 "cells": [
  {
   "cell_type": "code",
   "execution_count": 1,
   "id": "659c09e8-6a71-4db4-b9c6-1e7166d3cb6a",
   "metadata": {},
   "outputs": [],
   "source": [
    "from utils import *\n",
    "\n",
    "df_slices = list(split_dataframe(pd.read_csv('data/small.csv'), (0.9, 0.01, 0.04, 0.05)))\n",
    "submit_df = pd.read_csv('data/submit.csv')"
   ]
  },
  {
   "cell_type": "code",
   "execution_count": 2,
   "id": "b521ca0e-986e-4975-a5bc-f45ce22432c7",
   "metadata": {},
   "outputs": [],
   "source": [
    "\"\"\"\n",
    "    https://towardsdatascience.com/a-friendly-introduction-to-siamese-networks-85ab17522942\n",
    "\"\"\"\n",
    "\n",
    "class SiameseNetworkClassifier(nn.Module):\n",
    "    def __init__(self, latent_space_dim=50, dropout=0.6, device='mps'):\n",
    "        super(SiameseNetworkClassifier, self).__init__()\n",
    "\n",
    "        resnet = resnet152(weights=ResNet152_Weights.IMAGENET1K_V1)\n",
    "        for param in resnet.parameters():\n",
    "            param.requires_grad = False\n",
    "\n",
    "        self.frozen = nn.Sequential(*list(resnet.children())[:-1])\n",
    "        self.hot = nn.Sequential(\n",
    "            nn.Flatten(),\n",
    "            nn.Dropout(dropout),\n",
    "            nn.Linear(resnet.fc.in_features, latent_space_dim)\n",
    "        )\n",
    "\n",
    "        self.threshold = torch.tensor(0.)\n",
    "        self.device = torch.device(device)\n",
    "        self.to(self.device)\n",
    "\n",
    "    def forward(self, images1, images2):\n",
    "        output1 = self.hot(self.frozen(images1))\n",
    "        output2 = self.hot(self.frozen(images2))\n",
    "        return F.pairwise_distance(output1, output2)\n",
    "        \n",
    "    def update_threshold(self, loader, max_batches=None):\n",
    "        self.eval()\n",
    "        with torch.no_grad():\n",
    "            distances = []\n",
    "            labels = []\n",
    "            for images1, images2, equals in islice(loader, max_batches):\n",
    "                distance = self.forward(images1.to(self.device), images2.to(self.device))\n",
    "                distances.append(distance.cpu())\n",
    "                labels.append(equals)\n",
    "    \n",
    "            distances = torch.cat(distances)\n",
    "            labels = torch.cat(labels)\n",
    "            log_reg = LogisticRegression(penalty=None)\n",
    "            log_reg.fit(distances.reshape((-1, 1)), labels)\n",
    "            self.threshold = (-log_reg.intercept_ / log_reg.coef_).item()\n",
    "\n",
    "    # TODO refactor this method so we don't have to call .to(self.device) ? \n",
    "    def predict(self, images1, images2):\n",
    "        self.eval()\n",
    "        with torch.no_grad():\n",
    "            images1 = images1.to(self.device)\n",
    "            images2 = images2.to(self.device)\n",
    "            distances = self.forward(images1, images2)\n",
    "            return (distances < self.threshold).int().cpu()\n",
    "        \n",
    "class SiameseNetworkClassifier_TrainConv(nn.Module):\n",
    "    def __init__(self, latent_space_dim=150, dropout=0.1, device='mps'):\n",
    "        super(SiameseNetworkClassifier_TrainConv, self).__init__()\n",
    "\n",
    "        resnet = resnet152(weights=ResNet152_Weights.IMAGENET1K_V1)\n",
    "        for name, param in resnet.named_parameters():\n",
    "            if not name.startswith('layer4.2') and not name.startswith('fc'):\n",
    "                param.requires_grad = False\n",
    "\n",
    "        self.layers = nn.Sequential(*list(resnet.children())[:-1], nn.Flatten(), nn.Dropout(dropout), nn.Linear(resnet.fc.in_features, latent_space_dim))\n",
    "        \n",
    "        self.threshold = torch.tensor(0.)\n",
    "        self.device = torch.device(device)\n",
    "        self.to(self.device)\n",
    "\n",
    "    def forward(self, images1, images2):\n",
    "        output1 = self.layers(images1)\n",
    "        output2 = self.layers(images2)\n",
    "        return F.pairwise_distance(output1, output2)\n",
    "        \n",
    "    def update_threshold(self, loader, max_batches=None):\n",
    "        self.eval()\n",
    "        with torch.no_grad():\n",
    "            distances = []\n",
    "            labels = []\n",
    "            for images1, images2, equals in islice(loader, max_batches):\n",
    "                distance = self.forward(images1.to(self.device), images2.to(self.device))\n",
    "                distances.append(distance.cpu())\n",
    "                labels.append(equals)\n",
    "    \n",
    "            distances = torch.cat(distances)\n",
    "            labels = torch.cat(labels)\n",
    "            log_reg = LogisticRegression(penalty=None)\n",
    "            log_reg.fit(distances.reshape((-1, 1)), labels)\n",
    "            self.threshold = (-log_reg.intercept_ / log_reg.coef_).item()\n",
    "\n",
    "    # TODO refactor this method so we don't have to call .to(self.device) ? \n",
    "    def predict(self, images1, images2):\n",
    "        self.eval()\n",
    "        with torch.no_grad():\n",
    "            images1 = images1.to(self.device)\n",
    "            images2 = images2.to(self.device)\n",
    "            distances = self.forward(images1, images2)\n",
    "            return (distances < self.threshold).int().cpu()"
   ]
  },
  {
   "cell_type": "code",
   "execution_count": 3,
   "id": "52abf6ee-1cff-4fe6-92ed-90ef54a0d82c",
   "metadata": {},
   "outputs": [],
   "source": [
    "def objective(trial):\n",
    "    latent_space_dim = trial.suggest_int(\"latent_space_dim\", 130, 170)\n",
    "    latent_space_dim = 150\n",
    "    dropout = trial.suggest_float(\"dropout\", 0, 0.2)\n",
    "    \n",
    "    lr = trial.suggest_float(\"learning_rate\", 1e-6, 1e-3, log=True)\n",
    "    weight_decay = trial.suggest_float(\"weight_decay\", 1e-4, 1e-2, log=True)\n",
    "\n",
    "    batch_size = trial.suggest_categorical(\"batch_size\", [8, 16, 32])\n",
    "    image_size = trial.suggest_int(\"image_size\", 300, 400)\n",
    "    \n",
    "    # Random transform parameters for training set\n",
    "    random_crop_scale_min = trial.suggest_float('random_crop_scale_min', 0.5, 1)\n",
    "    random_crop_scale_max = trial.suggest_float('random_crop_scale_max', 0.5, 1)\n",
    "    if random_crop_scale_min > random_crop_scale_max:\n",
    "        random_crop_scale_min, random_crop_scale_max = random_crop_scale_max, random_crop_scale_min\n",
    "        # trial.set_user_attr('random_crop_scale_min', random_crop_scale_min)\n",
    "        # trial.set_user_attr('random_crop_scale_max', random_crop_scale_max)\n",
    "    downsample_ratio = trial.suggest_float('downsample_ratio', 0.6, 1)\n",
    "    pad_ratio = trial.suggest_float('pad_ratio', 0, 0.3)\n",
    "    use_color_jitter = trial.suggest_categorical('use_color_jitter', [True, False])\n",
    "    random_apply_prob = trial.suggest_float('random_apply_prob', 0, 0.3)\n",
    "    \n",
    "    train_conv = trial.suggest_categorical(\"train_conv\", [True, False])\n",
    "    \n",
    "    def get_transform(is_train):\n",
    "        transforms = [\n",
    "            T.Resize(image_size),\n",
    "            T.CenterCrop(image_size),\n",
    "            T.Lambda(lambda x: T.functional.equalize(x)),\n",
    "        ]\n",
    "\n",
    "        if is_train:\n",
    "            transforms += [\n",
    "                T.RandomApply([T.RandomResizedCrop(image_size, (random_crop_scale_min, random_crop_scale_max), (1, 1))], p=random_apply_prob),\n",
    "                T.RandomApply([T.Resize(int(image_size * downsample_ratio)), T.Resize(image_size)], p=random_apply_prob),\n",
    "                T.RandomApply([T.Pad(int(image_size * pad_ratio)), T.Resize(image_size)], p=random_apply_prob),\n",
    "            ]\n",
    "            if use_color_jitter:\n",
    "                transforms.append(T.ColorJitter(0.1, 0.1, 0.1, 0.1))\n",
    "\n",
    "        transforms += [\n",
    "            T.ToTensor(),\n",
    "            T.Normalize((0.5, 0.5, 0.5), (0.5, 0.5, 0.5))\n",
    "        ]\n",
    "\n",
    "        return T.Compose(transforms)\n",
    "\n",
    "    datasets = [ImageDataset(df, transform=get_transform(i == 0)) for i, df in enumerate(df_slices)]\n",
    "    loaders = [DataLoader(dataset, batch_size=batch_size, shuffle=(i == 0)) for i, dataset in enumerate(datasets)]\n",
    "    \n",
    "    train_data, train_threshold_data, valid_data, test_data = df_slices\n",
    "    train_dataset, train_threshold_dataset, valid_dataset, test_dataset = datasets\n",
    "    train_loader, train_threshold_loader, valid_loader, test_loader = loaders\n",
    "    \n",
    "    if train_conv:\n",
    "        model = SiameseNetworkClassifier_TrainConv(latent_space_dim=latent_space_dim, dropout=dropout)\n",
    "    else:\n",
    "        model = SiameseNetworkClassifier(latent_space_dim=latent_space_dim, dropout=dropout)\n",
    "    train(model, *loaders, epochs=1, max_batches= 5000 // batch_size + 1, lr=lr, weight_decay=weight_decay, verbose=False)\n",
    "    return evaluate(model, test_loader, max_batches= 2500 // batch_size + 1)"
   ]
  },
  {
   "cell_type": "code",
   "execution_count": 4,
   "id": "3b2beb1c-047b-4867-b37e-08a04959affe",
   "metadata": {},
   "outputs": [
    {
     "name": "stderr",
     "output_type": "stream",
     "text": [
      "[I 2023-07-09 00:06:01,091] A new study created in RDB with name: augment_and_train_conv_study\n"
     ]
    },
    {
     "data": {
      "application/vnd.jupyter.widget-view+json": {
       "model_id": "0fb0dc69807342219b1bee06b8587cab",
       "version_major": 2,
       "version_minor": 0
      },
      "text/plain": [
       "  0%|          | 0/500 [00:00<?, ?it/s]"
      ]
     },
     "metadata": {},
     "output_type": "display_data"
    },
    {
     "data": {
      "application/vnd.jupyter.widget-view+json": {
       "model_id": "f04ddf25b6da4afc8c5fa767ebb6e52f",
       "version_major": 2,
       "version_minor": 0
      },
      "text/plain": [
       "Epoch 0:   0%|          | 0/313 [00:00<?, ?it/s]"
      ]
     },
     "metadata": {},
     "output_type": "display_data"
    }
   ],
   "source": [
    "study = optuna.create_study(\n",
    "    study_name = \"augment_and_train_conv_study\",\n",
    "    storage = \"sqlite:///augment_and_train_conv_study.db\",\n",
    "    direction = \"maximize\",\n",
    "    load_if_exists=True\n",
    ")\n",
    "\n",
    "n_trials = 500\n",
    "\n",
    "study.optimize(objective, n_trials=n_trials, gc_after_trial=True, show_progress_bar=True, catch=Exception)"
   ]
  },
  {
   "cell_type": "code",
   "execution_count": null,
   "id": "a3a5b127-89e3-4288-ae18-6b6586fba4dc",
   "metadata": {},
   "outputs": [
    {
     "data": {
      "application/vnd.plotly.v1+json": {
       "config": {
        "plotlyServerURL": "https://plot.ly"
       },
       "data": [
        {
         "cliponaxis": false,
         "hovertemplate": [
          "use_color_jitter (CategoricalDistribution): 0.0005597691753061917<extra></extra>",
          "latent_space_dim (IntDistribution): 0.022745243990283222<extra></extra>",
          "dropout (FloatDistribution): 0.02335892151042436<extra></extra>",
          "image_size (IntDistribution): 0.03776452518520166<extra></extra>",
          "random_apply_prob (FloatDistribution): 0.03970817284328704<extra></extra>",
          "downsample_ratio (FloatDistribution): 0.06301237309847826<extra></extra>",
          "random_crop_scale_min (FloatDistribution): 0.07995913140005247<extra></extra>",
          "random_crop_scale_max (FloatDistribution): 0.084599205108225<extra></extra>",
          "pad_ratio (FloatDistribution): 0.0923277436142517<extra></extra>",
          "batch_size (CategoricalDistribution): 0.10428441611661056<extra></extra>",
          "weight_decay (FloatDistribution): 0.19379770808290847<extra></extra>",
          "learning_rate (FloatDistribution): 0.2578827898749711<extra></extra>"
         ],
         "marker": {
          "color": "rgb(66,146,198)"
         },
         "orientation": "h",
         "text": [
          "<0.01",
          "0.02",
          "0.02",
          "0.04",
          "0.04",
          "0.06",
          "0.08",
          "0.08",
          "0.09",
          "0.10",
          "0.19",
          "0.26"
         ],
         "textposition": "outside",
         "type": "bar",
         "x": [
          0.0005597691753061917,
          0.022745243990283222,
          0.02335892151042436,
          0.03776452518520166,
          0.03970817284328704,
          0.06301237309847826,
          0.07995913140005247,
          0.084599205108225,
          0.0923277436142517,
          0.10428441611661056,
          0.19379770808290847,
          0.2578827898749711
         ],
         "y": [
          "use_color_jitter",
          "latent_space_dim",
          "dropout",
          "image_size",
          "random_apply_prob",
          "downsample_ratio",
          "random_crop_scale_min",
          "random_crop_scale_max",
          "pad_ratio",
          "batch_size",
          "weight_decay",
          "learning_rate"
         ]
        }
       ],
       "layout": {
        "showlegend": false,
        "template": {
         "data": {
          "bar": [
           {
            "error_x": {
             "color": "#2a3f5f"
            },
            "error_y": {
             "color": "#2a3f5f"
            },
            "marker": {
             "line": {
              "color": "#E5ECF6",
              "width": 0.5
             },
             "pattern": {
              "fillmode": "overlay",
              "size": 10,
              "solidity": 0.2
             }
            },
            "type": "bar"
           }
          ],
          "barpolar": [
           {
            "marker": {
             "line": {
              "color": "#E5ECF6",
              "width": 0.5
             },
             "pattern": {
              "fillmode": "overlay",
              "size": 10,
              "solidity": 0.2
             }
            },
            "type": "barpolar"
           }
          ],
          "carpet": [
           {
            "aaxis": {
             "endlinecolor": "#2a3f5f",
             "gridcolor": "white",
             "linecolor": "white",
             "minorgridcolor": "white",
             "startlinecolor": "#2a3f5f"
            },
            "baxis": {
             "endlinecolor": "#2a3f5f",
             "gridcolor": "white",
             "linecolor": "white",
             "minorgridcolor": "white",
             "startlinecolor": "#2a3f5f"
            },
            "type": "carpet"
           }
          ],
          "choropleth": [
           {
            "colorbar": {
             "outlinewidth": 0,
             "ticks": ""
            },
            "type": "choropleth"
           }
          ],
          "contour": [
           {
            "colorbar": {
             "outlinewidth": 0,
             "ticks": ""
            },
            "colorscale": [
             [
              0,
              "#0d0887"
             ],
             [
              0.1111111111111111,
              "#46039f"
             ],
             [
              0.2222222222222222,
              "#7201a8"
             ],
             [
              0.3333333333333333,
              "#9c179e"
             ],
             [
              0.4444444444444444,
              "#bd3786"
             ],
             [
              0.5555555555555556,
              "#d8576b"
             ],
             [
              0.6666666666666666,
              "#ed7953"
             ],
             [
              0.7777777777777778,
              "#fb9f3a"
             ],
             [
              0.8888888888888888,
              "#fdca26"
             ],
             [
              1,
              "#f0f921"
             ]
            ],
            "type": "contour"
           }
          ],
          "contourcarpet": [
           {
            "colorbar": {
             "outlinewidth": 0,
             "ticks": ""
            },
            "type": "contourcarpet"
           }
          ],
          "heatmap": [
           {
            "colorbar": {
             "outlinewidth": 0,
             "ticks": ""
            },
            "colorscale": [
             [
              0,
              "#0d0887"
             ],
             [
              0.1111111111111111,
              "#46039f"
             ],
             [
              0.2222222222222222,
              "#7201a8"
             ],
             [
              0.3333333333333333,
              "#9c179e"
             ],
             [
              0.4444444444444444,
              "#bd3786"
             ],
             [
              0.5555555555555556,
              "#d8576b"
             ],
             [
              0.6666666666666666,
              "#ed7953"
             ],
             [
              0.7777777777777778,
              "#fb9f3a"
             ],
             [
              0.8888888888888888,
              "#fdca26"
             ],
             [
              1,
              "#f0f921"
             ]
            ],
            "type": "heatmap"
           }
          ],
          "heatmapgl": [
           {
            "colorbar": {
             "outlinewidth": 0,
             "ticks": ""
            },
            "colorscale": [
             [
              0,
              "#0d0887"
             ],
             [
              0.1111111111111111,
              "#46039f"
             ],
             [
              0.2222222222222222,
              "#7201a8"
             ],
             [
              0.3333333333333333,
              "#9c179e"
             ],
             [
              0.4444444444444444,
              "#bd3786"
             ],
             [
              0.5555555555555556,
              "#d8576b"
             ],
             [
              0.6666666666666666,
              "#ed7953"
             ],
             [
              0.7777777777777778,
              "#fb9f3a"
             ],
             [
              0.8888888888888888,
              "#fdca26"
             ],
             [
              1,
              "#f0f921"
             ]
            ],
            "type": "heatmapgl"
           }
          ],
          "histogram": [
           {
            "marker": {
             "pattern": {
              "fillmode": "overlay",
              "size": 10,
              "solidity": 0.2
             }
            },
            "type": "histogram"
           }
          ],
          "histogram2d": [
           {
            "colorbar": {
             "outlinewidth": 0,
             "ticks": ""
            },
            "colorscale": [
             [
              0,
              "#0d0887"
             ],
             [
              0.1111111111111111,
              "#46039f"
             ],
             [
              0.2222222222222222,
              "#7201a8"
             ],
             [
              0.3333333333333333,
              "#9c179e"
             ],
             [
              0.4444444444444444,
              "#bd3786"
             ],
             [
              0.5555555555555556,
              "#d8576b"
             ],
             [
              0.6666666666666666,
              "#ed7953"
             ],
             [
              0.7777777777777778,
              "#fb9f3a"
             ],
             [
              0.8888888888888888,
              "#fdca26"
             ],
             [
              1,
              "#f0f921"
             ]
            ],
            "type": "histogram2d"
           }
          ],
          "histogram2dcontour": [
           {
            "colorbar": {
             "outlinewidth": 0,
             "ticks": ""
            },
            "colorscale": [
             [
              0,
              "#0d0887"
             ],
             [
              0.1111111111111111,
              "#46039f"
             ],
             [
              0.2222222222222222,
              "#7201a8"
             ],
             [
              0.3333333333333333,
              "#9c179e"
             ],
             [
              0.4444444444444444,
              "#bd3786"
             ],
             [
              0.5555555555555556,
              "#d8576b"
             ],
             [
              0.6666666666666666,
              "#ed7953"
             ],
             [
              0.7777777777777778,
              "#fb9f3a"
             ],
             [
              0.8888888888888888,
              "#fdca26"
             ],
             [
              1,
              "#f0f921"
             ]
            ],
            "type": "histogram2dcontour"
           }
          ],
          "mesh3d": [
           {
            "colorbar": {
             "outlinewidth": 0,
             "ticks": ""
            },
            "type": "mesh3d"
           }
          ],
          "parcoords": [
           {
            "line": {
             "colorbar": {
              "outlinewidth": 0,
              "ticks": ""
             }
            },
            "type": "parcoords"
           }
          ],
          "pie": [
           {
            "automargin": true,
            "type": "pie"
           }
          ],
          "scatter": [
           {
            "fillpattern": {
             "fillmode": "overlay",
             "size": 10,
             "solidity": 0.2
            },
            "type": "scatter"
           }
          ],
          "scatter3d": [
           {
            "line": {
             "colorbar": {
              "outlinewidth": 0,
              "ticks": ""
             }
            },
            "marker": {
             "colorbar": {
              "outlinewidth": 0,
              "ticks": ""
             }
            },
            "type": "scatter3d"
           }
          ],
          "scattercarpet": [
           {
            "marker": {
             "colorbar": {
              "outlinewidth": 0,
              "ticks": ""
             }
            },
            "type": "scattercarpet"
           }
          ],
          "scattergeo": [
           {
            "marker": {
             "colorbar": {
              "outlinewidth": 0,
              "ticks": ""
             }
            },
            "type": "scattergeo"
           }
          ],
          "scattergl": [
           {
            "marker": {
             "colorbar": {
              "outlinewidth": 0,
              "ticks": ""
             }
            },
            "type": "scattergl"
           }
          ],
          "scattermapbox": [
           {
            "marker": {
             "colorbar": {
              "outlinewidth": 0,
              "ticks": ""
             }
            },
            "type": "scattermapbox"
           }
          ],
          "scatterpolar": [
           {
            "marker": {
             "colorbar": {
              "outlinewidth": 0,
              "ticks": ""
             }
            },
            "type": "scatterpolar"
           }
          ],
          "scatterpolargl": [
           {
            "marker": {
             "colorbar": {
              "outlinewidth": 0,
              "ticks": ""
             }
            },
            "type": "scatterpolargl"
           }
          ],
          "scatterternary": [
           {
            "marker": {
             "colorbar": {
              "outlinewidth": 0,
              "ticks": ""
             }
            },
            "type": "scatterternary"
           }
          ],
          "surface": [
           {
            "colorbar": {
             "outlinewidth": 0,
             "ticks": ""
            },
            "colorscale": [
             [
              0,
              "#0d0887"
             ],
             [
              0.1111111111111111,
              "#46039f"
             ],
             [
              0.2222222222222222,
              "#7201a8"
             ],
             [
              0.3333333333333333,
              "#9c179e"
             ],
             [
              0.4444444444444444,
              "#bd3786"
             ],
             [
              0.5555555555555556,
              "#d8576b"
             ],
             [
              0.6666666666666666,
              "#ed7953"
             ],
             [
              0.7777777777777778,
              "#fb9f3a"
             ],
             [
              0.8888888888888888,
              "#fdca26"
             ],
             [
              1,
              "#f0f921"
             ]
            ],
            "type": "surface"
           }
          ],
          "table": [
           {
            "cells": {
             "fill": {
              "color": "#EBF0F8"
             },
             "line": {
              "color": "white"
             }
            },
            "header": {
             "fill": {
              "color": "#C8D4E3"
             },
             "line": {
              "color": "white"
             }
            },
            "type": "table"
           }
          ]
         },
         "layout": {
          "annotationdefaults": {
           "arrowcolor": "#2a3f5f",
           "arrowhead": 0,
           "arrowwidth": 1
          },
          "autotypenumbers": "strict",
          "coloraxis": {
           "colorbar": {
            "outlinewidth": 0,
            "ticks": ""
           }
          },
          "colorscale": {
           "diverging": [
            [
             0,
             "#8e0152"
            ],
            [
             0.1,
             "#c51b7d"
            ],
            [
             0.2,
             "#de77ae"
            ],
            [
             0.3,
             "#f1b6da"
            ],
            [
             0.4,
             "#fde0ef"
            ],
            [
             0.5,
             "#f7f7f7"
            ],
            [
             0.6,
             "#e6f5d0"
            ],
            [
             0.7,
             "#b8e186"
            ],
            [
             0.8,
             "#7fbc41"
            ],
            [
             0.9,
             "#4d9221"
            ],
            [
             1,
             "#276419"
            ]
           ],
           "sequential": [
            [
             0,
             "#0d0887"
            ],
            [
             0.1111111111111111,
             "#46039f"
            ],
            [
             0.2222222222222222,
             "#7201a8"
            ],
            [
             0.3333333333333333,
             "#9c179e"
            ],
            [
             0.4444444444444444,
             "#bd3786"
            ],
            [
             0.5555555555555556,
             "#d8576b"
            ],
            [
             0.6666666666666666,
             "#ed7953"
            ],
            [
             0.7777777777777778,
             "#fb9f3a"
            ],
            [
             0.8888888888888888,
             "#fdca26"
            ],
            [
             1,
             "#f0f921"
            ]
           ],
           "sequentialminus": [
            [
             0,
             "#0d0887"
            ],
            [
             0.1111111111111111,
             "#46039f"
            ],
            [
             0.2222222222222222,
             "#7201a8"
            ],
            [
             0.3333333333333333,
             "#9c179e"
            ],
            [
             0.4444444444444444,
             "#bd3786"
            ],
            [
             0.5555555555555556,
             "#d8576b"
            ],
            [
             0.6666666666666666,
             "#ed7953"
            ],
            [
             0.7777777777777778,
             "#fb9f3a"
            ],
            [
             0.8888888888888888,
             "#fdca26"
            ],
            [
             1,
             "#f0f921"
            ]
           ]
          },
          "colorway": [
           "#636efa",
           "#EF553B",
           "#00cc96",
           "#ab63fa",
           "#FFA15A",
           "#19d3f3",
           "#FF6692",
           "#B6E880",
           "#FF97FF",
           "#FECB52"
          ],
          "font": {
           "color": "#2a3f5f"
          },
          "geo": {
           "bgcolor": "white",
           "lakecolor": "white",
           "landcolor": "#E5ECF6",
           "showlakes": true,
           "showland": true,
           "subunitcolor": "white"
          },
          "hoverlabel": {
           "align": "left"
          },
          "hovermode": "closest",
          "mapbox": {
           "style": "light"
          },
          "paper_bgcolor": "white",
          "plot_bgcolor": "#E5ECF6",
          "polar": {
           "angularaxis": {
            "gridcolor": "white",
            "linecolor": "white",
            "ticks": ""
           },
           "bgcolor": "#E5ECF6",
           "radialaxis": {
            "gridcolor": "white",
            "linecolor": "white",
            "ticks": ""
           }
          },
          "scene": {
           "xaxis": {
            "backgroundcolor": "#E5ECF6",
            "gridcolor": "white",
            "gridwidth": 2,
            "linecolor": "white",
            "showbackground": true,
            "ticks": "",
            "zerolinecolor": "white"
           },
           "yaxis": {
            "backgroundcolor": "#E5ECF6",
            "gridcolor": "white",
            "gridwidth": 2,
            "linecolor": "white",
            "showbackground": true,
            "ticks": "",
            "zerolinecolor": "white"
           },
           "zaxis": {
            "backgroundcolor": "#E5ECF6",
            "gridcolor": "white",
            "gridwidth": 2,
            "linecolor": "white",
            "showbackground": true,
            "ticks": "",
            "zerolinecolor": "white"
           }
          },
          "shapedefaults": {
           "line": {
            "color": "#2a3f5f"
           }
          },
          "ternary": {
           "aaxis": {
            "gridcolor": "white",
            "linecolor": "white",
            "ticks": ""
           },
           "baxis": {
            "gridcolor": "white",
            "linecolor": "white",
            "ticks": ""
           },
           "bgcolor": "#E5ECF6",
           "caxis": {
            "gridcolor": "white",
            "linecolor": "white",
            "ticks": ""
           }
          },
          "title": {
           "x": 0.05
          },
          "xaxis": {
           "automargin": true,
           "gridcolor": "white",
           "linecolor": "white",
           "ticks": "",
           "title": {
            "standoff": 15
           },
           "zerolinecolor": "white",
           "zerolinewidth": 2
          },
          "yaxis": {
           "automargin": true,
           "gridcolor": "white",
           "linecolor": "white",
           "ticks": "",
           "title": {
            "standoff": 15
           },
           "zerolinecolor": "white",
           "zerolinewidth": 2
          }
         }
        },
        "title": {
         "text": "Hyperparameter Importances"
        },
        "xaxis": {
         "title": {
          "text": "Importance for Objective Value"
         }
        },
        "yaxis": {
         "title": {
          "text": "Hyperparameter"
         }
        }
       }
      }
     },
     "metadata": {},
     "output_type": "display_data"
    }
   ],
   "source": [
    "optuna.visualization.plot_param_importances(study)"
   ]
  },
  {
   "cell_type": "code",
   "execution_count": null,
   "id": "583606ed-185b-4998-8b9f-db51d5631870",
   "metadata": {},
   "outputs": [
    {
     "data": {
      "application/vnd.plotly.v1+json": {
       "config": {
        "plotlyServerURL": "https://plot.ly"
       },
       "data": [
        {
         "colorbar": {
          "title": {
           "text": "Objective Value"
          }
         },
         "colorscale": [
          [
           0,
           "rgb(247,251,255)"
          ],
          [
           0.125,
           "rgb(222,235,247)"
          ],
          [
           0.25,
           "rgb(198,219,239)"
          ],
          [
           0.375,
           "rgb(158,202,225)"
          ],
          [
           0.5,
           "rgb(107,174,214)"
          ],
          [
           0.625,
           "rgb(66,146,198)"
          ],
          [
           0.75,
           "rgb(33,113,181)"
          ],
          [
           0.875,
           "rgb(8,81,156)"
          ],
          [
           1,
           "rgb(8,48,107)"
          ]
         ],
         "connectgaps": true,
         "contours": {
          "coloring": "heatmap"
         },
         "hoverinfo": "none",
         "line": {
          "smoothing": 1.3
         },
         "reversescale": false,
         "type": "contour",
         "x": [
          55.9,
          72,
          100,
          107,
          108,
          127,
          141,
          165,
          170,
          196,
          202,
          227,
          256,
          281,
          307,
          315,
          324,
          350,
          378,
          394,
          410.1
         ],
         "y": [
          20.75,
          29,
          38,
          42,
          52,
          71,
          72,
          106,
          113,
          130,
          136,
          139,
          152,
          153,
          154,
          165,
          172,
          173,
          178,
          194,
          202.25
         ],
         "z": [
          [
           null,
           null,
           null,
           null,
           null,
           null,
           null,
           null,
           null,
           null,
           null,
           null,
           null,
           null,
           null,
           null,
           null,
           null,
           null,
           null,
           null
          ],
          [
           null,
           null,
           null,
           null,
           null,
           null,
           0.9664123058319092,
           null,
           null,
           null,
           null,
           null,
           null,
           null,
           null,
           null,
           null,
           null,
           null,
           null,
           null
          ],
          [
           null,
           null,
           null,
           null,
           null,
           null,
           null,
           null,
           null,
           null,
           null,
           null,
           null,
           null,
           null,
           null,
           null,
           0.9888745546340942,
           null,
           null,
           null
          ],
          [
           null,
           null,
           null,
           null,
           null,
           null,
           null,
           null,
           null,
           null,
           null,
           null,
           null,
           null,
           null,
           0.9910857677459717,
           null,
           null,
           null,
           null,
           null
          ],
          [
           null,
           null,
           null,
           null,
           null,
           null,
           null,
           null,
           null,
           0.983893871307373,
           null,
           null,
           null,
           null,
           null,
           null,
           null,
           null,
           null,
           null,
           null
          ],
          [
           null,
           null,
           0.9800359606742859,
           null,
           null,
           null,
           null,
           null,
           null,
           null,
           null,
           null,
           null,
           null,
           null,
           null,
           null,
           null,
           null,
           null,
           null
          ],
          [
           null,
           null,
           null,
           null,
           null,
           0.9821151494979858,
           null,
           null,
           null,
           null,
           null,
           null,
           null,
           null,
           null,
           null,
           null,
           null,
           null,
           null,
           null
          ],
          [
           null,
           null,
           null,
           null,
           null,
           null,
           null,
           null,
           null,
           null,
           null,
           null,
           null,
           0.986586332321167,
           null,
           null,
           null,
           null,
           null,
           null,
           null
          ],
          [
           null,
           null,
           null,
           0.9888396263122559,
           null,
           null,
           null,
           null,
           null,
           null,
           null,
           null,
           null,
           null,
           null,
           null,
           null,
           null,
           null,
           null,
           null
          ],
          [
           null,
           0.9618110060691833,
           null,
           null,
           null,
           null,
           null,
           null,
           null,
           null,
           null,
           null,
           null,
           null,
           null,
           null,
           null,
           null,
           null,
           null,
           null
          ],
          [
           null,
           null,
           null,
           null,
           null,
           null,
           null,
           null,
           null,
           null,
           0.9933037757873535,
           null,
           null,
           null,
           null,
           null,
           null,
           null,
           null,
           null,
           null
          ],
          [
           null,
           null,
           null,
           null,
           null,
           null,
           null,
           null,
           null,
           null,
           null,
           null,
           null,
           null,
           null,
           null,
           null,
           null,
           null,
           0.9932824373245239,
           null
          ],
          [
           null,
           null,
           null,
           null,
           null,
           null,
           null,
           null,
           null,
           null,
           null,
           null,
           null,
           null,
           null,
           null,
           null,
           null,
           0.9977607727050781,
           null,
           null
          ],
          [
           null,
           null,
           null,
           null,
           null,
           null,
           null,
           null,
           null,
           null,
           null,
           null,
           null,
           null,
           null,
           null,
           0.9954215288162231,
           null,
           null,
           null,
           null
          ],
          [
           null,
           null,
           null,
           null,
           null,
           null,
           null,
           null,
           null,
           null,
           null,
           null,
           null,
           null,
           null,
           null,
           null,
           null,
           0.9933037757873535,
           null,
           null
          ],
          [
           null,
           null,
           null,
           null,
           null,
           null,
           null,
           0.9866285920143127,
           null,
           null,
           null,
           null,
           null,
           null,
           null,
           null,
           null,
           null,
           null,
           null,
           null
          ],
          [
           null,
           null,
           null,
           null,
           0.9822268486022949,
           null,
           null,
           null,
           null,
           null,
           null,
           null,
           null,
           null,
           null,
           null,
           null,
           null,
           null,
           null,
           null
          ],
          [
           null,
           null,
           null,
           null,
           null,
           null,
           null,
           null,
           0.9933037757873535,
           null,
           null,
           null,
           null,
           null,
           null,
           null,
           null,
           null,
           null,
           null,
           null
          ],
          [
           null,
           null,
           null,
           null,
           null,
           null,
           null,
           null,
           null,
           null,
           null,
           null,
           null,
           null,
           0.9954215288162231,
           null,
           null,
           null,
           null,
           null,
           null
          ],
          [
           null,
           null,
           null,
           null,
           null,
           null,
           null,
           null,
           null,
           null,
           null,
           0.9638800621032715,
           0.9908733367919922,
           null,
           null,
           null,
           null,
           null,
           null,
           null,
           null
          ],
          [
           null,
           null,
           null,
           null,
           null,
           null,
           null,
           null,
           null,
           null,
           null,
           null,
           null,
           null,
           null,
           null,
           null,
           null,
           null,
           null,
           null
          ]
         ]
        },
        {
         "marker": {
          "color": "black",
          "line": {
           "color": "Grey",
           "width": 2
          }
         },
         "mode": "markers",
         "showlegend": false,
         "type": "scatter",
         "x": [
          315,
          350,
          108,
          141,
          107,
          170,
          281,
          127,
          196,
          100,
          227,
          378,
          378,
          202,
          256,
          394,
          165,
          72,
          307,
          324
         ],
         "y": [
          42,
          38,
          172,
          29,
          113,
          173,
          106,
          72,
          52,
          71,
          194,
          154,
          152,
          136,
          194,
          139,
          165,
          130,
          178,
          153
         ]
        }
       ],
       "layout": {
        "template": {
         "data": {
          "bar": [
           {
            "error_x": {
             "color": "#2a3f5f"
            },
            "error_y": {
             "color": "#2a3f5f"
            },
            "marker": {
             "line": {
              "color": "#E5ECF6",
              "width": 0.5
             },
             "pattern": {
              "fillmode": "overlay",
              "size": 10,
              "solidity": 0.2
             }
            },
            "type": "bar"
           }
          ],
          "barpolar": [
           {
            "marker": {
             "line": {
              "color": "#E5ECF6",
              "width": 0.5
             },
             "pattern": {
              "fillmode": "overlay",
              "size": 10,
              "solidity": 0.2
             }
            },
            "type": "barpolar"
           }
          ],
          "carpet": [
           {
            "aaxis": {
             "endlinecolor": "#2a3f5f",
             "gridcolor": "white",
             "linecolor": "white",
             "minorgridcolor": "white",
             "startlinecolor": "#2a3f5f"
            },
            "baxis": {
             "endlinecolor": "#2a3f5f",
             "gridcolor": "white",
             "linecolor": "white",
             "minorgridcolor": "white",
             "startlinecolor": "#2a3f5f"
            },
            "type": "carpet"
           }
          ],
          "choropleth": [
           {
            "colorbar": {
             "outlinewidth": 0,
             "ticks": ""
            },
            "type": "choropleth"
           }
          ],
          "contour": [
           {
            "colorbar": {
             "outlinewidth": 0,
             "ticks": ""
            },
            "colorscale": [
             [
              0,
              "#0d0887"
             ],
             [
              0.1111111111111111,
              "#46039f"
             ],
             [
              0.2222222222222222,
              "#7201a8"
             ],
             [
              0.3333333333333333,
              "#9c179e"
             ],
             [
              0.4444444444444444,
              "#bd3786"
             ],
             [
              0.5555555555555556,
              "#d8576b"
             ],
             [
              0.6666666666666666,
              "#ed7953"
             ],
             [
              0.7777777777777778,
              "#fb9f3a"
             ],
             [
              0.8888888888888888,
              "#fdca26"
             ],
             [
              1,
              "#f0f921"
             ]
            ],
            "type": "contour"
           }
          ],
          "contourcarpet": [
           {
            "colorbar": {
             "outlinewidth": 0,
             "ticks": ""
            },
            "type": "contourcarpet"
           }
          ],
          "heatmap": [
           {
            "colorbar": {
             "outlinewidth": 0,
             "ticks": ""
            },
            "colorscale": [
             [
              0,
              "#0d0887"
             ],
             [
              0.1111111111111111,
              "#46039f"
             ],
             [
              0.2222222222222222,
              "#7201a8"
             ],
             [
              0.3333333333333333,
              "#9c179e"
             ],
             [
              0.4444444444444444,
              "#bd3786"
             ],
             [
              0.5555555555555556,
              "#d8576b"
             ],
             [
              0.6666666666666666,
              "#ed7953"
             ],
             [
              0.7777777777777778,
              "#fb9f3a"
             ],
             [
              0.8888888888888888,
              "#fdca26"
             ],
             [
              1,
              "#f0f921"
             ]
            ],
            "type": "heatmap"
           }
          ],
          "heatmapgl": [
           {
            "colorbar": {
             "outlinewidth": 0,
             "ticks": ""
            },
            "colorscale": [
             [
              0,
              "#0d0887"
             ],
             [
              0.1111111111111111,
              "#46039f"
             ],
             [
              0.2222222222222222,
              "#7201a8"
             ],
             [
              0.3333333333333333,
              "#9c179e"
             ],
             [
              0.4444444444444444,
              "#bd3786"
             ],
             [
              0.5555555555555556,
              "#d8576b"
             ],
             [
              0.6666666666666666,
              "#ed7953"
             ],
             [
              0.7777777777777778,
              "#fb9f3a"
             ],
             [
              0.8888888888888888,
              "#fdca26"
             ],
             [
              1,
              "#f0f921"
             ]
            ],
            "type": "heatmapgl"
           }
          ],
          "histogram": [
           {
            "marker": {
             "pattern": {
              "fillmode": "overlay",
              "size": 10,
              "solidity": 0.2
             }
            },
            "type": "histogram"
           }
          ],
          "histogram2d": [
           {
            "colorbar": {
             "outlinewidth": 0,
             "ticks": ""
            },
            "colorscale": [
             [
              0,
              "#0d0887"
             ],
             [
              0.1111111111111111,
              "#46039f"
             ],
             [
              0.2222222222222222,
              "#7201a8"
             ],
             [
              0.3333333333333333,
              "#9c179e"
             ],
             [
              0.4444444444444444,
              "#bd3786"
             ],
             [
              0.5555555555555556,
              "#d8576b"
             ],
             [
              0.6666666666666666,
              "#ed7953"
             ],
             [
              0.7777777777777778,
              "#fb9f3a"
             ],
             [
              0.8888888888888888,
              "#fdca26"
             ],
             [
              1,
              "#f0f921"
             ]
            ],
            "type": "histogram2d"
           }
          ],
          "histogram2dcontour": [
           {
            "colorbar": {
             "outlinewidth": 0,
             "ticks": ""
            },
            "colorscale": [
             [
              0,
              "#0d0887"
             ],
             [
              0.1111111111111111,
              "#46039f"
             ],
             [
              0.2222222222222222,
              "#7201a8"
             ],
             [
              0.3333333333333333,
              "#9c179e"
             ],
             [
              0.4444444444444444,
              "#bd3786"
             ],
             [
              0.5555555555555556,
              "#d8576b"
             ],
             [
              0.6666666666666666,
              "#ed7953"
             ],
             [
              0.7777777777777778,
              "#fb9f3a"
             ],
             [
              0.8888888888888888,
              "#fdca26"
             ],
             [
              1,
              "#f0f921"
             ]
            ],
            "type": "histogram2dcontour"
           }
          ],
          "mesh3d": [
           {
            "colorbar": {
             "outlinewidth": 0,
             "ticks": ""
            },
            "type": "mesh3d"
           }
          ],
          "parcoords": [
           {
            "line": {
             "colorbar": {
              "outlinewidth": 0,
              "ticks": ""
             }
            },
            "type": "parcoords"
           }
          ],
          "pie": [
           {
            "automargin": true,
            "type": "pie"
           }
          ],
          "scatter": [
           {
            "fillpattern": {
             "fillmode": "overlay",
             "size": 10,
             "solidity": 0.2
            },
            "type": "scatter"
           }
          ],
          "scatter3d": [
           {
            "line": {
             "colorbar": {
              "outlinewidth": 0,
              "ticks": ""
             }
            },
            "marker": {
             "colorbar": {
              "outlinewidth": 0,
              "ticks": ""
             }
            },
            "type": "scatter3d"
           }
          ],
          "scattercarpet": [
           {
            "marker": {
             "colorbar": {
              "outlinewidth": 0,
              "ticks": ""
             }
            },
            "type": "scattercarpet"
           }
          ],
          "scattergeo": [
           {
            "marker": {
             "colorbar": {
              "outlinewidth": 0,
              "ticks": ""
             }
            },
            "type": "scattergeo"
           }
          ],
          "scattergl": [
           {
            "marker": {
             "colorbar": {
              "outlinewidth": 0,
              "ticks": ""
             }
            },
            "type": "scattergl"
           }
          ],
          "scattermapbox": [
           {
            "marker": {
             "colorbar": {
              "outlinewidth": 0,
              "ticks": ""
             }
            },
            "type": "scattermapbox"
           }
          ],
          "scatterpolar": [
           {
            "marker": {
             "colorbar": {
              "outlinewidth": 0,
              "ticks": ""
             }
            },
            "type": "scatterpolar"
           }
          ],
          "scatterpolargl": [
           {
            "marker": {
             "colorbar": {
              "outlinewidth": 0,
              "ticks": ""
             }
            },
            "type": "scatterpolargl"
           }
          ],
          "scatterternary": [
           {
            "marker": {
             "colorbar": {
              "outlinewidth": 0,
              "ticks": ""
             }
            },
            "type": "scatterternary"
           }
          ],
          "surface": [
           {
            "colorbar": {
             "outlinewidth": 0,
             "ticks": ""
            },
            "colorscale": [
             [
              0,
              "#0d0887"
             ],
             [
              0.1111111111111111,
              "#46039f"
             ],
             [
              0.2222222222222222,
              "#7201a8"
             ],
             [
              0.3333333333333333,
              "#9c179e"
             ],
             [
              0.4444444444444444,
              "#bd3786"
             ],
             [
              0.5555555555555556,
              "#d8576b"
             ],
             [
              0.6666666666666666,
              "#ed7953"
             ],
             [
              0.7777777777777778,
              "#fb9f3a"
             ],
             [
              0.8888888888888888,
              "#fdca26"
             ],
             [
              1,
              "#f0f921"
             ]
            ],
            "type": "surface"
           }
          ],
          "table": [
           {
            "cells": {
             "fill": {
              "color": "#EBF0F8"
             },
             "line": {
              "color": "white"
             }
            },
            "header": {
             "fill": {
              "color": "#C8D4E3"
             },
             "line": {
              "color": "white"
             }
            },
            "type": "table"
           }
          ]
         },
         "layout": {
          "annotationdefaults": {
           "arrowcolor": "#2a3f5f",
           "arrowhead": 0,
           "arrowwidth": 1
          },
          "autotypenumbers": "strict",
          "coloraxis": {
           "colorbar": {
            "outlinewidth": 0,
            "ticks": ""
           }
          },
          "colorscale": {
           "diverging": [
            [
             0,
             "#8e0152"
            ],
            [
             0.1,
             "#c51b7d"
            ],
            [
             0.2,
             "#de77ae"
            ],
            [
             0.3,
             "#f1b6da"
            ],
            [
             0.4,
             "#fde0ef"
            ],
            [
             0.5,
             "#f7f7f7"
            ],
            [
             0.6,
             "#e6f5d0"
            ],
            [
             0.7,
             "#b8e186"
            ],
            [
             0.8,
             "#7fbc41"
            ],
            [
             0.9,
             "#4d9221"
            ],
            [
             1,
             "#276419"
            ]
           ],
           "sequential": [
            [
             0,
             "#0d0887"
            ],
            [
             0.1111111111111111,
             "#46039f"
            ],
            [
             0.2222222222222222,
             "#7201a8"
            ],
            [
             0.3333333333333333,
             "#9c179e"
            ],
            [
             0.4444444444444444,
             "#bd3786"
            ],
            [
             0.5555555555555556,
             "#d8576b"
            ],
            [
             0.6666666666666666,
             "#ed7953"
            ],
            [
             0.7777777777777778,
             "#fb9f3a"
            ],
            [
             0.8888888888888888,
             "#fdca26"
            ],
            [
             1,
             "#f0f921"
            ]
           ],
           "sequentialminus": [
            [
             0,
             "#0d0887"
            ],
            [
             0.1111111111111111,
             "#46039f"
            ],
            [
             0.2222222222222222,
             "#7201a8"
            ],
            [
             0.3333333333333333,
             "#9c179e"
            ],
            [
             0.4444444444444444,
             "#bd3786"
            ],
            [
             0.5555555555555556,
             "#d8576b"
            ],
            [
             0.6666666666666666,
             "#ed7953"
            ],
            [
             0.7777777777777778,
             "#fb9f3a"
            ],
            [
             0.8888888888888888,
             "#fdca26"
            ],
            [
             1,
             "#f0f921"
            ]
           ]
          },
          "colorway": [
           "#636efa",
           "#EF553B",
           "#00cc96",
           "#ab63fa",
           "#FFA15A",
           "#19d3f3",
           "#FF6692",
           "#B6E880",
           "#FF97FF",
           "#FECB52"
          ],
          "font": {
           "color": "#2a3f5f"
          },
          "geo": {
           "bgcolor": "white",
           "lakecolor": "white",
           "landcolor": "#E5ECF6",
           "showlakes": true,
           "showland": true,
           "subunitcolor": "white"
          },
          "hoverlabel": {
           "align": "left"
          },
          "hovermode": "closest",
          "mapbox": {
           "style": "light"
          },
          "paper_bgcolor": "white",
          "plot_bgcolor": "#E5ECF6",
          "polar": {
           "angularaxis": {
            "gridcolor": "white",
            "linecolor": "white",
            "ticks": ""
           },
           "bgcolor": "#E5ECF6",
           "radialaxis": {
            "gridcolor": "white",
            "linecolor": "white",
            "ticks": ""
           }
          },
          "scene": {
           "xaxis": {
            "backgroundcolor": "#E5ECF6",
            "gridcolor": "white",
            "gridwidth": 2,
            "linecolor": "white",
            "showbackground": true,
            "ticks": "",
            "zerolinecolor": "white"
           },
           "yaxis": {
            "backgroundcolor": "#E5ECF6",
            "gridcolor": "white",
            "gridwidth": 2,
            "linecolor": "white",
            "showbackground": true,
            "ticks": "",
            "zerolinecolor": "white"
           },
           "zaxis": {
            "backgroundcolor": "#E5ECF6",
            "gridcolor": "white",
            "gridwidth": 2,
            "linecolor": "white",
            "showbackground": true,
            "ticks": "",
            "zerolinecolor": "white"
           }
          },
          "shapedefaults": {
           "line": {
            "color": "#2a3f5f"
           }
          },
          "ternary": {
           "aaxis": {
            "gridcolor": "white",
            "linecolor": "white",
            "ticks": ""
           },
           "baxis": {
            "gridcolor": "white",
            "linecolor": "white",
            "ticks": ""
           },
           "bgcolor": "#E5ECF6",
           "caxis": {
            "gridcolor": "white",
            "linecolor": "white",
            "ticks": ""
           }
          },
          "title": {
           "x": 0.05
          },
          "xaxis": {
           "automargin": true,
           "gridcolor": "white",
           "linecolor": "white",
           "ticks": "",
           "title": {
            "standoff": 15
           },
           "zerolinecolor": "white",
           "zerolinewidth": 2
          },
          "yaxis": {
           "automargin": true,
           "gridcolor": "white",
           "linecolor": "white",
           "ticks": "",
           "title": {
            "standoff": 15
           },
           "zerolinecolor": "white",
           "zerolinewidth": 2
          }
         }
        },
        "title": {
         "text": "Contour Plot"
        },
        "xaxis": {
         "range": [
          55.9,
          410.1
         ],
         "title": {
          "text": "image_size"
         }
        },
        "yaxis": {
         "range": [
          20.75,
          202.25
         ],
         "title": {
          "text": "latent_space_dim"
         }
        }
       }
      }
     },
     "metadata": {},
     "output_type": "display_data"
    }
   ],
   "source": [
    "optuna.visualization.plot_contour(study, params=['image_size', 'latent_space_dim'])"
   ]
  },
  {
   "cell_type": "code",
   "execution_count": null,
   "id": "302d8e38",
   "metadata": {},
   "outputs": [],
   "source": [
    "study.trials_dataframe().sort_values('value', ascending=False).to_csv('params.csv')"
   ]
  },
  {
   "cell_type": "code",
   "execution_count": null,
   "id": "956af248",
   "metadata": {},
   "outputs": [
    {
     "data": {
      "text/html": [
       "<div>\n",
       "<style scoped>\n",
       "    .dataframe tbody tr th:only-of-type {\n",
       "        vertical-align: middle;\n",
       "    }\n",
       "\n",
       "    .dataframe tbody tr th {\n",
       "        vertical-align: top;\n",
       "    }\n",
       "\n",
       "    .dataframe thead th {\n",
       "        text-align: right;\n",
       "    }\n",
       "</style>\n",
       "<table border=\"1\" class=\"dataframe\">\n",
       "  <thead>\n",
       "    <tr style=\"text-align: right;\">\n",
       "      <th></th>\n",
       "      <th>Unnamed: 0</th>\n",
       "      <th>number</th>\n",
       "      <th>value</th>\n",
       "      <th>datetime_start</th>\n",
       "      <th>datetime_complete</th>\n",
       "      <th>duration</th>\n",
       "      <th>params_batch_size</th>\n",
       "      <th>params_downsample_ratio</th>\n",
       "      <th>params_dropout</th>\n",
       "      <th>params_image_size</th>\n",
       "      <th>params_latent_space_dim</th>\n",
       "      <th>params_learning_rate</th>\n",
       "      <th>params_pad_ratio</th>\n",
       "      <th>params_random_apply_prob</th>\n",
       "      <th>params_random_crop_scale_max</th>\n",
       "      <th>params_random_crop_scale_min</th>\n",
       "      <th>params_use_color_jitter</th>\n",
       "      <th>params_weight_decay</th>\n",
       "      <th>state</th>\n",
       "    </tr>\n",
       "  </thead>\n",
       "  <tbody>\n",
       "    <tr>\n",
       "      <th>0</th>\n",
       "      <td>12</td>\n",
       "      <td>12</td>\n",
       "      <td>0.997761</td>\n",
       "      <td>2023-07-08 22:01:16.520658</td>\n",
       "      <td>2023-07-08 22:07:35.269168</td>\n",
       "      <td>0 days 00:06:18.748510</td>\n",
       "      <td>16</td>\n",
       "      <td>0.616866</td>\n",
       "      <td>0.121133</td>\n",
       "      <td>378</td>\n",
       "      <td>152</td>\n",
       "      <td>0.000193</td>\n",
       "      <td>0.177446</td>\n",
       "      <td>0.222577</td>\n",
       "      <td>0.514853</td>\n",
       "      <td>0.856183</td>\n",
       "      <td>True</td>\n",
       "      <td>0.002508</td>\n",
       "      <td>COMPLETE</td>\n",
       "    </tr>\n",
       "    <tr>\n",
       "      <th>1</th>\n",
       "      <td>19</td>\n",
       "      <td>19</td>\n",
       "      <td>0.995422</td>\n",
       "      <td>2023-07-08 22:25:53.457407</td>\n",
       "      <td>2023-07-08 22:30:43.333673</td>\n",
       "      <td>0 days 00:04:49.876266</td>\n",
       "      <td>8</td>\n",
       "      <td>0.646529</td>\n",
       "      <td>0.009340</td>\n",
       "      <td>324</td>\n",
       "      <td>153</td>\n",
       "      <td>0.000540</td>\n",
       "      <td>0.128549</td>\n",
       "      <td>0.268075</td>\n",
       "      <td>0.518787</td>\n",
       "      <td>0.791927</td>\n",
       "      <td>False</td>\n",
       "      <td>0.003059</td>\n",
       "      <td>COMPLETE</td>\n",
       "    </tr>\n",
       "    <tr>\n",
       "      <th>2</th>\n",
       "      <td>18</td>\n",
       "      <td>18</td>\n",
       "      <td>0.995422</td>\n",
       "      <td>2023-07-08 22:21:44.017694</td>\n",
       "      <td>2023-07-08 22:25:53.270446</td>\n",
       "      <td>0 days 00:04:09.252752</td>\n",
       "      <td>8</td>\n",
       "      <td>0.652126</td>\n",
       "      <td>0.002524</td>\n",
       "      <td>307</td>\n",
       "      <td>178</td>\n",
       "      <td>0.000206</td>\n",
       "      <td>0.135649</td>\n",
       "      <td>0.268082</td>\n",
       "      <td>0.500464</td>\n",
       "      <td>0.903891</td>\n",
       "      <td>False</td>\n",
       "      <td>0.002293</td>\n",
       "      <td>COMPLETE</td>\n",
       "    </tr>\n",
       "    <tr>\n",
       "      <th>3</th>\n",
       "      <td>11</td>\n",
       "      <td>11</td>\n",
       "      <td>0.993304</td>\n",
       "      <td>2023-07-08 21:54:35.909763</td>\n",
       "      <td>2023-07-08 22:01:15.725787</td>\n",
       "      <td>0 days 00:06:39.816024</td>\n",
       "      <td>16</td>\n",
       "      <td>0.605947</td>\n",
       "      <td>0.114329</td>\n",
       "      <td>378</td>\n",
       "      <td>154</td>\n",
       "      <td>0.000077</td>\n",
       "      <td>0.171543</td>\n",
       "      <td>0.246400</td>\n",
       "      <td>0.500797</td>\n",
       "      <td>0.867172</td>\n",
       "      <td>True</td>\n",
       "      <td>0.000597</td>\n",
       "      <td>COMPLETE</td>\n",
       "    </tr>\n",
       "    <tr>\n",
       "      <th>4</th>\n",
       "      <td>13</td>\n",
       "      <td>13</td>\n",
       "      <td>0.993304</td>\n",
       "      <td>2023-07-08 22:07:36.312466</td>\n",
       "      <td>2023-07-08 22:09:40.962596</td>\n",
       "      <td>0 days 00:02:04.650130</td>\n",
       "      <td>16</td>\n",
       "      <td>0.752348</td>\n",
       "      <td>0.148938</td>\n",
       "      <td>202</td>\n",
       "      <td>136</td>\n",
       "      <td>0.000438</td>\n",
       "      <td>0.214437</td>\n",
       "      <td>0.188510</td>\n",
       "      <td>0.607612</td>\n",
       "      <td>0.832451</td>\n",
       "      <td>True</td>\n",
       "      <td>0.002601</td>\n",
       "      <td>COMPLETE</td>\n",
       "    </tr>\n",
       "    <tr>\n",
       "      <th>5</th>\n",
       "      <td>5</td>\n",
       "      <td>5</td>\n",
       "      <td>0.993304</td>\n",
       "      <td>2023-07-08 21:37:41.160038</td>\n",
       "      <td>2023-07-08 21:39:37.450105</td>\n",
       "      <td>0 days 00:01:56.290067</td>\n",
       "      <td>16</td>\n",
       "      <td>0.724953</td>\n",
       "      <td>0.186027</td>\n",
       "      <td>170</td>\n",
       "      <td>173</td>\n",
       "      <td>0.000153</td>\n",
       "      <td>0.157382</td>\n",
       "      <td>0.225157</td>\n",
       "      <td>0.654646</td>\n",
       "      <td>0.883331</td>\n",
       "      <td>True</td>\n",
       "      <td>0.001414</td>\n",
       "      <td>COMPLETE</td>\n",
       "    </tr>\n",
       "    <tr>\n",
       "      <th>6</th>\n",
       "      <td>15</td>\n",
       "      <td>15</td>\n",
       "      <td>0.993282</td>\n",
       "      <td>2023-07-08 22:12:15.511579</td>\n",
       "      <td>2023-07-08 22:19:17.598372</td>\n",
       "      <td>0 days 00:07:02.086793</td>\n",
       "      <td>16</td>\n",
       "      <td>0.758245</td>\n",
       "      <td>0.077192</td>\n",
       "      <td>394</td>\n",
       "      <td>139</td>\n",
       "      <td>0.000958</td>\n",
       "      <td>0.139047</td>\n",
       "      <td>0.245953</td>\n",
       "      <td>0.600036</td>\n",
       "      <td>0.513665</td>\n",
       "      <td>True</td>\n",
       "      <td>0.001638</td>\n",
       "      <td>COMPLETE</td>\n",
       "    </tr>\n",
       "    <tr>\n",
       "      <th>7</th>\n",
       "      <td>0</td>\n",
       "      <td>0</td>\n",
       "      <td>0.991086</td>\n",
       "      <td>2023-07-08 21:25:43.924422</td>\n",
       "      <td>2023-07-08 21:28:54.957578</td>\n",
       "      <td>0 days 00:03:11.033156</td>\n",
       "      <td>16</td>\n",
       "      <td>0.923019</td>\n",
       "      <td>0.081242</td>\n",
       "      <td>315</td>\n",
       "      <td>42</td>\n",
       "      <td>0.000018</td>\n",
       "      <td>0.169548</td>\n",
       "      <td>0.263186</td>\n",
       "      <td>0.548217</td>\n",
       "      <td>0.960422</td>\n",
       "      <td>True</td>\n",
       "      <td>0.000593</td>\n",
       "      <td>COMPLETE</td>\n",
       "    </tr>\n",
       "    <tr>\n",
       "      <th>8</th>\n",
       "      <td>14</td>\n",
       "      <td>14</td>\n",
       "      <td>0.990873</td>\n",
       "      <td>2023-07-08 22:09:41.130931</td>\n",
       "      <td>2023-07-08 22:12:15.344812</td>\n",
       "      <td>0 days 00:02:34.213881</td>\n",
       "      <td>8</td>\n",
       "      <td>0.608587</td>\n",
       "      <td>0.150787</td>\n",
       "      <td>256</td>\n",
       "      <td>194</td>\n",
       "      <td>0.000094</td>\n",
       "      <td>0.298321</td>\n",
       "      <td>0.192838</td>\n",
       "      <td>0.509831</td>\n",
       "      <td>0.880298</td>\n",
       "      <td>True</td>\n",
       "      <td>0.003606</td>\n",
       "      <td>COMPLETE</td>\n",
       "    </tr>\n",
       "    <tr>\n",
       "      <th>9</th>\n",
       "      <td>1</td>\n",
       "      <td>1</td>\n",
       "      <td>0.988875</td>\n",
       "      <td>2023-07-08 21:28:55.122478</td>\n",
       "      <td>2023-07-08 21:34:02.730265</td>\n",
       "      <td>0 days 00:05:07.607787</td>\n",
       "      <td>32</td>\n",
       "      <td>0.692378</td>\n",
       "      <td>0.219454</td>\n",
       "      <td>350</td>\n",
       "      <td>38</td>\n",
       "      <td>0.000035</td>\n",
       "      <td>0.203514</td>\n",
       "      <td>0.221769</td>\n",
       "      <td>0.765473</td>\n",
       "      <td>0.959567</td>\n",
       "      <td>False</td>\n",
       "      <td>0.005732</td>\n",
       "      <td>COMPLETE</td>\n",
       "    </tr>\n",
       "    <tr>\n",
       "      <th>10</th>\n",
       "      <td>4</td>\n",
       "      <td>4</td>\n",
       "      <td>0.988840</td>\n",
       "      <td>2023-07-08 21:36:34.164572</td>\n",
       "      <td>2023-07-08 21:37:40.986969</td>\n",
       "      <td>0 days 00:01:06.822397</td>\n",
       "      <td>16</td>\n",
       "      <td>0.886342</td>\n",
       "      <td>0.240957</td>\n",
       "      <td>107</td>\n",
       "      <td>113</td>\n",
       "      <td>0.000003</td>\n",
       "      <td>0.275709</td>\n",
       "      <td>0.027488</td>\n",
       "      <td>0.660818</td>\n",
       "      <td>0.598144</td>\n",
       "      <td>False</td>\n",
       "      <td>0.000297</td>\n",
       "      <td>COMPLETE</td>\n",
       "    </tr>\n",
       "    <tr>\n",
       "      <th>11</th>\n",
       "      <td>16</td>\n",
       "      <td>16</td>\n",
       "      <td>0.986629</td>\n",
       "      <td>2023-07-08 22:19:18.369830</td>\n",
       "      <td>2023-07-08 22:20:56.729682</td>\n",
       "      <td>0 days 00:01:38.359852</td>\n",
       "      <td>16</td>\n",
       "      <td>0.637875</td>\n",
       "      <td>0.152783</td>\n",
       "      <td>165</td>\n",
       "      <td>165</td>\n",
       "      <td>0.000018</td>\n",
       "      <td>0.187170</td>\n",
       "      <td>0.114773</td>\n",
       "      <td>0.639857</td>\n",
       "      <td>0.999336</td>\n",
       "      <td>True</td>\n",
       "      <td>0.004632</td>\n",
       "      <td>COMPLETE</td>\n",
       "    </tr>\n",
       "    <tr>\n",
       "      <th>12</th>\n",
       "      <td>6</td>\n",
       "      <td>6</td>\n",
       "      <td>0.986586</td>\n",
       "      <td>2023-07-08 21:39:37.619276</td>\n",
       "      <td>2023-07-08 21:47:23.910321</td>\n",
       "      <td>0 days 00:07:46.291045</td>\n",
       "      <td>64</td>\n",
       "      <td>0.861371</td>\n",
       "      <td>0.251217</td>\n",
       "      <td>281</td>\n",
       "      <td>106</td>\n",
       "      <td>0.019900</td>\n",
       "      <td>0.233396</td>\n",
       "      <td>0.067609</td>\n",
       "      <td>0.780670</td>\n",
       "      <td>0.583163</td>\n",
       "      <td>True</td>\n",
       "      <td>0.000178</td>\n",
       "      <td>COMPLETE</td>\n",
       "    </tr>\n",
       "    <tr>\n",
       "      <th>13</th>\n",
       "      <td>8</td>\n",
       "      <td>8</td>\n",
       "      <td>0.983894</td>\n",
       "      <td>2023-07-08 21:48:49.081784</td>\n",
       "      <td>2023-07-08 21:51:05.757157</td>\n",
       "      <td>0 days 00:02:16.675373</td>\n",
       "      <td>8</td>\n",
       "      <td>0.827444</td>\n",
       "      <td>0.022928</td>\n",
       "      <td>196</td>\n",
       "      <td>52</td>\n",
       "      <td>0.000002</td>\n",
       "      <td>0.023371</td>\n",
       "      <td>0.223574</td>\n",
       "      <td>0.869344</td>\n",
       "      <td>0.943307</td>\n",
       "      <td>True</td>\n",
       "      <td>0.000147</td>\n",
       "      <td>COMPLETE</td>\n",
       "    </tr>\n",
       "    <tr>\n",
       "      <th>14</th>\n",
       "      <td>2</td>\n",
       "      <td>2</td>\n",
       "      <td>0.982227</td>\n",
       "      <td>2023-07-08 21:34:03.110954</td>\n",
       "      <td>2023-07-08 21:35:08.252952</td>\n",
       "      <td>0 days 00:01:05.141998</td>\n",
       "      <td>32</td>\n",
       "      <td>0.684031</td>\n",
       "      <td>0.032974</td>\n",
       "      <td>108</td>\n",
       "      <td>172</td>\n",
       "      <td>0.000004</td>\n",
       "      <td>0.110997</td>\n",
       "      <td>0.292490</td>\n",
       "      <td>0.560783</td>\n",
       "      <td>0.711010</td>\n",
       "      <td>True</td>\n",
       "      <td>0.001087</td>\n",
       "      <td>COMPLETE</td>\n",
       "    </tr>\n",
       "    <tr>\n",
       "      <th>15</th>\n",
       "      <td>7</td>\n",
       "      <td>7</td>\n",
       "      <td>0.982115</td>\n",
       "      <td>2023-07-08 21:47:24.670730</td>\n",
       "      <td>2023-07-08 21:48:48.526257</td>\n",
       "      <td>0 days 00:01:23.855527</td>\n",
       "      <td>64</td>\n",
       "      <td>0.818269</td>\n",
       "      <td>0.203306</td>\n",
       "      <td>127</td>\n",
       "      <td>72</td>\n",
       "      <td>0.001221</td>\n",
       "      <td>0.093294</td>\n",
       "      <td>0.288487</td>\n",
       "      <td>0.734741</td>\n",
       "      <td>0.626159</td>\n",
       "      <td>False</td>\n",
       "      <td>0.000521</td>\n",
       "      <td>COMPLETE</td>\n",
       "    </tr>\n",
       "    <tr>\n",
       "      <th>16</th>\n",
       "      <td>9</td>\n",
       "      <td>9</td>\n",
       "      <td>0.980036</td>\n",
       "      <td>2023-07-08 21:51:05.920172</td>\n",
       "      <td>2023-07-08 21:52:00.845333</td>\n",
       "      <td>0 days 00:00:54.925161</td>\n",
       "      <td>64</td>\n",
       "      <td>0.683065</td>\n",
       "      <td>0.315157</td>\n",
       "      <td>100</td>\n",
       "      <td>71</td>\n",
       "      <td>0.000253</td>\n",
       "      <td>0.079060</td>\n",
       "      <td>0.053963</td>\n",
       "      <td>0.732184</td>\n",
       "      <td>0.750912</td>\n",
       "      <td>True</td>\n",
       "      <td>0.001421</td>\n",
       "      <td>COMPLETE</td>\n",
       "    </tr>\n",
       "    <tr>\n",
       "      <th>17</th>\n",
       "      <td>3</td>\n",
       "      <td>3</td>\n",
       "      <td>0.966412</td>\n",
       "      <td>2023-07-08 21:35:08.393962</td>\n",
       "      <td>2023-07-08 21:36:33.980670</td>\n",
       "      <td>0 days 00:01:25.586708</td>\n",
       "      <td>32</td>\n",
       "      <td>0.882888</td>\n",
       "      <td>0.191747</td>\n",
       "      <td>141</td>\n",
       "      <td>29</td>\n",
       "      <td>0.004786</td>\n",
       "      <td>0.084838</td>\n",
       "      <td>0.149038</td>\n",
       "      <td>0.658926</td>\n",
       "      <td>0.919922</td>\n",
       "      <td>True</td>\n",
       "      <td>0.007638</td>\n",
       "      <td>COMPLETE</td>\n",
       "    </tr>\n",
       "    <tr>\n",
       "      <th>18</th>\n",
       "      <td>10</td>\n",
       "      <td>10</td>\n",
       "      <td>0.963880</td>\n",
       "      <td>2023-07-08 21:52:00.981369</td>\n",
       "      <td>2023-07-08 21:54:35.721884</td>\n",
       "      <td>0 days 00:02:34.740515</td>\n",
       "      <td>16</td>\n",
       "      <td>0.996438</td>\n",
       "      <td>0.393652</td>\n",
       "      <td>227</td>\n",
       "      <td>194</td>\n",
       "      <td>0.076348</td>\n",
       "      <td>0.145892</td>\n",
       "      <td>0.156712</td>\n",
       "      <td>0.994249</td>\n",
       "      <td>0.836303</td>\n",
       "      <td>False</td>\n",
       "      <td>0.002339</td>\n",
       "      <td>COMPLETE</td>\n",
       "    </tr>\n",
       "    <tr>\n",
       "      <th>19</th>\n",
       "      <td>17</td>\n",
       "      <td>17</td>\n",
       "      <td>0.961811</td>\n",
       "      <td>2023-07-08 22:20:56.888762</td>\n",
       "      <td>2023-07-08 22:21:43.885031</td>\n",
       "      <td>0 days 00:00:46.996269</td>\n",
       "      <td>16</td>\n",
       "      <td>0.747603</td>\n",
       "      <td>0.099200</td>\n",
       "      <td>72</td>\n",
       "      <td>130</td>\n",
       "      <td>0.002362</td>\n",
       "      <td>0.246241</td>\n",
       "      <td>0.202459</td>\n",
       "      <td>0.566102</td>\n",
       "      <td>0.793151</td>\n",
       "      <td>True</td>\n",
       "      <td>0.008874</td>\n",
       "      <td>COMPLETE</td>\n",
       "    </tr>\n",
       "  </tbody>\n",
       "</table>\n",
       "</div>"
      ],
      "text/plain": [
       "    Unnamed: 0  number     value              datetime_start  \\\n",
       "0           12      12  0.997761  2023-07-08 22:01:16.520658   \n",
       "1           19      19  0.995422  2023-07-08 22:25:53.457407   \n",
       "2           18      18  0.995422  2023-07-08 22:21:44.017694   \n",
       "3           11      11  0.993304  2023-07-08 21:54:35.909763   \n",
       "4           13      13  0.993304  2023-07-08 22:07:36.312466   \n",
       "5            5       5  0.993304  2023-07-08 21:37:41.160038   \n",
       "6           15      15  0.993282  2023-07-08 22:12:15.511579   \n",
       "7            0       0  0.991086  2023-07-08 21:25:43.924422   \n",
       "8           14      14  0.990873  2023-07-08 22:09:41.130931   \n",
       "9            1       1  0.988875  2023-07-08 21:28:55.122478   \n",
       "10           4       4  0.988840  2023-07-08 21:36:34.164572   \n",
       "11          16      16  0.986629  2023-07-08 22:19:18.369830   \n",
       "12           6       6  0.986586  2023-07-08 21:39:37.619276   \n",
       "13           8       8  0.983894  2023-07-08 21:48:49.081784   \n",
       "14           2       2  0.982227  2023-07-08 21:34:03.110954   \n",
       "15           7       7  0.982115  2023-07-08 21:47:24.670730   \n",
       "16           9       9  0.980036  2023-07-08 21:51:05.920172   \n",
       "17           3       3  0.966412  2023-07-08 21:35:08.393962   \n",
       "18          10      10  0.963880  2023-07-08 21:52:00.981369   \n",
       "19          17      17  0.961811  2023-07-08 22:20:56.888762   \n",
       "\n",
       "             datetime_complete                duration  params_batch_size  \\\n",
       "0   2023-07-08 22:07:35.269168  0 days 00:06:18.748510                 16   \n",
       "1   2023-07-08 22:30:43.333673  0 days 00:04:49.876266                  8   \n",
       "2   2023-07-08 22:25:53.270446  0 days 00:04:09.252752                  8   \n",
       "3   2023-07-08 22:01:15.725787  0 days 00:06:39.816024                 16   \n",
       "4   2023-07-08 22:09:40.962596  0 days 00:02:04.650130                 16   \n",
       "5   2023-07-08 21:39:37.450105  0 days 00:01:56.290067                 16   \n",
       "6   2023-07-08 22:19:17.598372  0 days 00:07:02.086793                 16   \n",
       "7   2023-07-08 21:28:54.957578  0 days 00:03:11.033156                 16   \n",
       "8   2023-07-08 22:12:15.344812  0 days 00:02:34.213881                  8   \n",
       "9   2023-07-08 21:34:02.730265  0 days 00:05:07.607787                 32   \n",
       "10  2023-07-08 21:37:40.986969  0 days 00:01:06.822397                 16   \n",
       "11  2023-07-08 22:20:56.729682  0 days 00:01:38.359852                 16   \n",
       "12  2023-07-08 21:47:23.910321  0 days 00:07:46.291045                 64   \n",
       "13  2023-07-08 21:51:05.757157  0 days 00:02:16.675373                  8   \n",
       "14  2023-07-08 21:35:08.252952  0 days 00:01:05.141998                 32   \n",
       "15  2023-07-08 21:48:48.526257  0 days 00:01:23.855527                 64   \n",
       "16  2023-07-08 21:52:00.845333  0 days 00:00:54.925161                 64   \n",
       "17  2023-07-08 21:36:33.980670  0 days 00:01:25.586708                 32   \n",
       "18  2023-07-08 21:54:35.721884  0 days 00:02:34.740515                 16   \n",
       "19  2023-07-08 22:21:43.885031  0 days 00:00:46.996269                 16   \n",
       "\n",
       "    params_downsample_ratio  params_dropout  params_image_size  \\\n",
       "0                  0.616866        0.121133                378   \n",
       "1                  0.646529        0.009340                324   \n",
       "2                  0.652126        0.002524                307   \n",
       "3                  0.605947        0.114329                378   \n",
       "4                  0.752348        0.148938                202   \n",
       "5                  0.724953        0.186027                170   \n",
       "6                  0.758245        0.077192                394   \n",
       "7                  0.923019        0.081242                315   \n",
       "8                  0.608587        0.150787                256   \n",
       "9                  0.692378        0.219454                350   \n",
       "10                 0.886342        0.240957                107   \n",
       "11                 0.637875        0.152783                165   \n",
       "12                 0.861371        0.251217                281   \n",
       "13                 0.827444        0.022928                196   \n",
       "14                 0.684031        0.032974                108   \n",
       "15                 0.818269        0.203306                127   \n",
       "16                 0.683065        0.315157                100   \n",
       "17                 0.882888        0.191747                141   \n",
       "18                 0.996438        0.393652                227   \n",
       "19                 0.747603        0.099200                 72   \n",
       "\n",
       "    params_latent_space_dim  params_learning_rate  params_pad_ratio  \\\n",
       "0                       152              0.000193          0.177446   \n",
       "1                       153              0.000540          0.128549   \n",
       "2                       178              0.000206          0.135649   \n",
       "3                       154              0.000077          0.171543   \n",
       "4                       136              0.000438          0.214437   \n",
       "5                       173              0.000153          0.157382   \n",
       "6                       139              0.000958          0.139047   \n",
       "7                        42              0.000018          0.169548   \n",
       "8                       194              0.000094          0.298321   \n",
       "9                        38              0.000035          0.203514   \n",
       "10                      113              0.000003          0.275709   \n",
       "11                      165              0.000018          0.187170   \n",
       "12                      106              0.019900          0.233396   \n",
       "13                       52              0.000002          0.023371   \n",
       "14                      172              0.000004          0.110997   \n",
       "15                       72              0.001221          0.093294   \n",
       "16                       71              0.000253          0.079060   \n",
       "17                       29              0.004786          0.084838   \n",
       "18                      194              0.076348          0.145892   \n",
       "19                      130              0.002362          0.246241   \n",
       "\n",
       "    params_random_apply_prob  params_random_crop_scale_max  \\\n",
       "0                   0.222577                      0.514853   \n",
       "1                   0.268075                      0.518787   \n",
       "2                   0.268082                      0.500464   \n",
       "3                   0.246400                      0.500797   \n",
       "4                   0.188510                      0.607612   \n",
       "5                   0.225157                      0.654646   \n",
       "6                   0.245953                      0.600036   \n",
       "7                   0.263186                      0.548217   \n",
       "8                   0.192838                      0.509831   \n",
       "9                   0.221769                      0.765473   \n",
       "10                  0.027488                      0.660818   \n",
       "11                  0.114773                      0.639857   \n",
       "12                  0.067609                      0.780670   \n",
       "13                  0.223574                      0.869344   \n",
       "14                  0.292490                      0.560783   \n",
       "15                  0.288487                      0.734741   \n",
       "16                  0.053963                      0.732184   \n",
       "17                  0.149038                      0.658926   \n",
       "18                  0.156712                      0.994249   \n",
       "19                  0.202459                      0.566102   \n",
       "\n",
       "    params_random_crop_scale_min  params_use_color_jitter  \\\n",
       "0                       0.856183                     True   \n",
       "1                       0.791927                    False   \n",
       "2                       0.903891                    False   \n",
       "3                       0.867172                     True   \n",
       "4                       0.832451                     True   \n",
       "5                       0.883331                     True   \n",
       "6                       0.513665                     True   \n",
       "7                       0.960422                     True   \n",
       "8                       0.880298                     True   \n",
       "9                       0.959567                    False   \n",
       "10                      0.598144                    False   \n",
       "11                      0.999336                     True   \n",
       "12                      0.583163                     True   \n",
       "13                      0.943307                     True   \n",
       "14                      0.711010                     True   \n",
       "15                      0.626159                    False   \n",
       "16                      0.750912                     True   \n",
       "17                      0.919922                     True   \n",
       "18                      0.836303                    False   \n",
       "19                      0.793151                     True   \n",
       "\n",
       "    params_weight_decay     state  \n",
       "0              0.002508  COMPLETE  \n",
       "1              0.003059  COMPLETE  \n",
       "2              0.002293  COMPLETE  \n",
       "3              0.000597  COMPLETE  \n",
       "4              0.002601  COMPLETE  \n",
       "5              0.001414  COMPLETE  \n",
       "6              0.001638  COMPLETE  \n",
       "7              0.000593  COMPLETE  \n",
       "8              0.003606  COMPLETE  \n",
       "9              0.005732  COMPLETE  \n",
       "10             0.000297  COMPLETE  \n",
       "11             0.004632  COMPLETE  \n",
       "12             0.000178  COMPLETE  \n",
       "13             0.000147  COMPLETE  \n",
       "14             0.001087  COMPLETE  \n",
       "15             0.000521  COMPLETE  \n",
       "16             0.001421  COMPLETE  \n",
       "17             0.007638  COMPLETE  \n",
       "18             0.002339  COMPLETE  \n",
       "19             0.008874  COMPLETE  "
      ]
     },
     "execution_count": 18,
     "metadata": {},
     "output_type": "execute_result"
    }
   ],
   "source": [
    "pd.read_csv('params.csv')"
   ]
  },
  {
   "cell_type": "code",
   "execution_count": null,
   "id": "9230b774",
   "metadata": {},
   "outputs": [],
   "source": []
  }
 ],
 "metadata": {
  "kernelspec": {
   "display_name": "Python 3 (ipykernel)",
   "language": "python",
   "name": "python3"
  },
  "language_info": {
   "codemirror_mode": {
    "name": "ipython",
    "version": 3
   },
   "file_extension": ".py",
   "mimetype": "text/x-python",
   "name": "python",
   "nbconvert_exporter": "python",
   "pygments_lexer": "ipython3",
   "version": "3.10.9"
  }
 },
 "nbformat": 4,
 "nbformat_minor": 5
}
