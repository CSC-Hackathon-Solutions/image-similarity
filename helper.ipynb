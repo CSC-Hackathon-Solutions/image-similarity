{
 "cells": [
  {
   "cell_type": "code",
   "execution_count": 2,
   "id": "bcd8218f-91aa-4678-bab1-42811f0f486d",
   "metadata": {
    "tags": []
   },
   "outputs": [],
   "source": [
    "import requests\n",
    "from io import BytesIO\n",
    "from PIL import Image\n",
    "import os\n",
    "\n",
    "from tqdm.auto import tqdm\n",
    "\n",
    "import pandas as pd\n",
    "import numpy as np\n",
    "\n",
    "import torch\n",
    "import torchvision.transforms as T\n",
    "from torch.utils.data import DataLoader, Dataset\n",
    "\n",
    "from ImageDataset import ImageDataset"
   ]
  },
  {
   "cell_type": "code",
   "execution_count": 18,
   "id": "8c4432b3-0697-46a6-84dc-7917f168a912",
   "metadata": {
    "tags": []
   },
   "outputs": [
    {
     "data": {
      "text/plain": [
       "9548"
      ]
     },
     "execution_count": 18,
     "metadata": {},
     "output_type": "execute_result"
    }
   ],
   "source": [
    "import os\n",
    "\n",
    "directory = 'data/images'  # Replace with the actual directory path\n",
    "\n",
    "file_names = ['images/' + s for s in os.listdir(directory)]\n",
    "len(file_names)"
   ]
  },
  {
   "cell_type": "code",
   "execution_count": 21,
   "id": "8ce883b2-2157-4510-a9a3-a74cf442d905",
   "metadata": {
    "tags": []
   },
   "outputs": [
    {
     "name": "stdout",
     "output_type": "stream",
     "text": [
      "4818\n",
      "4757\n"
     ]
    }
   ],
   "source": [
    "metadata = pd.read_csv('data/train.csv')\n",
    "print(len(metadata))\n",
    "metadata = metadata[metadata['Path1'].isin(file_names) & metadata['Path2'].isin(file_names)]\n",
    "print(len(metadata))\n",
    "metadata.to_csv('data/train_filtered.csv', index=False)"
   ]
  },
  {
   "cell_type": "code",
   "execution_count": null,
   "id": "674909f1-3780-4f0b-8dd5-9812a4830f41",
   "metadata": {},
   "outputs": [],
   "source": []
  },
  {
   "cell_type": "code",
   "execution_count": null,
   "id": "12e940ea-cc9d-4dd0-8bff-4fe5475dc65f",
   "metadata": {},
   "outputs": [],
   "source": []
  }
 ],
 "metadata": {
  "kernelspec": {
   "display_name": "Python 3 (ipykernel)",
   "language": "python",
   "name": "python3"
  },
  "language_info": {
   "codemirror_mode": {
    "name": "ipython",
    "version": 3
   },
   "file_extension": ".py",
   "mimetype": "text/x-python",
   "name": "python",
   "nbconvert_exporter": "python",
   "pygments_lexer": "ipython3",
   "version": "3.9.16"
  }
 },
 "nbformat": 4,
 "nbformat_minor": 5
}
